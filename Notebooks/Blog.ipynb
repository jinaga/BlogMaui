{
 "cells": [
  {
   "cell_type": "code",
   "execution_count": 9,
   "metadata": {
    "dotnet_interactive": {
     "language": "csharp"
    },
    "polyglot_notebook": {
     "kernelName": "csharp"
    }
   },
   "outputs": [
    {
     "data": {
      "text/html": [
       "<div><div><strong>Restore sources</strong><ul><li><span> /Users/michaelperry/.nuget/NuGet/packages</span></li></ul></div><div></div><div><strong>Installed Packages</strong><ul><li><span>Jinaga, 0.10.2-alpha.0.6</span></li><li><span>Jinaga.Graphviz, 0.10.2-alpha.0.6</span></li></ul></div></div>"
      ]
     },
     "metadata": {},
     "output_type": "display_data"
    }
   ],
   "source": [
    "#r \"nuget: Jinaga\"\n",
    "#r \"nuget: Jinaga.Graphviz\""
   ]
  },
  {
   "cell_type": "code",
   "execution_count": 10,
   "metadata": {
    "dotnet_interactive": {
     "language": "csharp"
    },
    "polyglot_notebook": {
     "kernelName": "csharp"
    }
   },
   "outputs": [],
   "source": [
    "using Jinaga;\n",
    "using Jinaga.Http;\n",
    "using Jinaga.Graphviz;"
   ]
  },
  {
   "cell_type": "code",
   "execution_count": 11,
   "metadata": {
    "dotnet_interactive": {
     "language": "csharp"
    },
    "polyglot_notebook": {
     "kernelName": "csharp"
    }
   },
   "outputs": [],
   "source": [
    "class TokenAuthenticationProvider : IHttpAuthenticationProvider\n",
    "{\n",
    "    private string token;\n",
    "\n",
    "    public TokenAuthenticationProvider(string token)\n",
    "    {\n",
    "        this.token = token;\n",
    "    }\n",
    "\n",
    "    public void SetRequestHeaders(System.Net.Http.Headers.HttpRequestHeaders headers)\n",
    "    {\n",
    "        headers.Add(\"Authorization\", $\"Bearer {token}\");\n",
    "    }\n",
    "\n",
    "    public Task<bool> Reauthenticate()\n",
    "    {\n",
    "        return Task.FromResult(false);\n",
    "    }\n",
    "}"
   ]
  },
  {
   "cell_type": "markdown",
   "metadata": {},
   "source": [
    "Create a file called `settings.json` and put the following settings into it:\n",
    "\n",
    "```json\n",
    "{\n",
    "    \"HttpEndpoint\": \"https://repdev.jinaga.com/....\",\n",
    "    \"AuthorizationToken\": \"eyJh....\"\n",
    "}\n",
    "```"
   ]
  },
  {
   "cell_type": "code",
   "execution_count": 12,
   "metadata": {
    "dotnet_interactive": {
     "language": "csharp"
    },
    "polyglot_notebook": {
     "kernelName": "csharp"
    }
   },
   "outputs": [],
   "source": [
    "#!value --from-file settings.json --name settings"
   ]
  },
  {
   "cell_type": "code",
   "execution_count": 13,
   "metadata": {
    "dotnet_interactive": {
     "language": "csharp"
    },
    "polyglot_notebook": {
     "kernelName": "csharp"
    }
   },
   "outputs": [],
   "source": [
    "#!share settings --from value\n",
    "\n",
    "var parsedSettings = System.Text.Json.JsonSerializer.Deserialize<Dictionary<string, string>>(settings);\n",
    "\n",
    "var jinagaClient = JinagaClient.Create(options =>\n",
    "{\n",
    "    options.HttpEndpoint = new Uri(parsedSettings[\"HttpEndpoint\"]);\n",
    "    options.HttpAuthenticationProvider = new TokenAuthenticationProvider(parsedSettings[\"AuthorizationToken\"]);\n",
    "});"
   ]
  },
  {
   "cell_type": "code",
   "execution_count": 14,
   "metadata": {
    "dotnet_interactive": {
     "language": "csharp"
    },
    "polyglot_notebook": {
     "kernelName": "csharp"
    }
   },
   "outputs": [],
   "source": [
    "[FactType(\"Blog.User.Name\")]\n",
    "public partial record UserName(User user, string value, UserName[] prior) { }\n",
    "\n",
    "[FactType(\"Blog.Site\")]\n",
    "public partial record Site(User creator, DateTime createdAt) { }\n",
    "\n",
    "[FactType(\"Blog.Site.Name\")]\n",
    "public partial record SiteName(Site site, string value, SiteName[] prior) { }\n",
    "\n",
    "[FactType(\"Blog.Site.Domain\")]\n",
    "public partial record SiteDomain(Site site, string value, SiteDomain[] prior) { }\n",
    "\n",
    "[FactType(\"Blog.Post\")]\n",
    "public partial record Post(Site site, User author, DateTime createdAt) { }\n",
    "\n",
    "[FactType(\"Blog.Post.Title\")]\n",
    "public partial record PostTitle(Post post, string value, PostTitle[] prior) { }\n",
    "\n",
    "[FactType(\"Blog.Post.Deleted\")]\n",
    "public partial record PostDeleted(Post post, DateTime deletedAt) { }\n",
    "\n",
    "[FactType(\"Blog.Post.Publish\")]\n",
    "public partial record Publish(Post post, DateTime date) { }"
   ]
  },
  {
   "cell_type": "code",
   "execution_count": 15,
   "metadata": {
    "dotnet_interactive": {
     "language": "csharp"
    },
    "polyglot_notebook": {
     "kernelName": "csharp"
    }
   },
   "outputs": [
    {
     "data": {
      "text/html": [
       "<table><thead><tr><th><i>index</i></th><th>value</th></tr></thead><tbody><tr><td>0</td><td><details class=\"dni-treeview\"><summary><span class=\"dni-code-hint\"><code>{ id = +sYNBX9dkY7warmKFU+u5iesTSrk3a29AMNQbF6Hj3jElEd1TuCbs50ewh8bcpq88U9Tz+zNGfDLa3yTJxlhZQ==, names = System.Linq.Enumerable+&lt;OfTypeIterator&gt;d__66`1[System.String], domains = System.Linq.Enumerable+&lt;OfTypeIterator&gt;d__66`1[System.String] }</code></span></summary><div><table><thead><tr></tr></thead><tbody><tr><td>id</td><td><div class=\"dni-plaintext\"><pre>+sYNBX9dkY7warmKFU+u5iesTSrk3a29AMNQbF6Hj3jElEd1TuCbs50ewh8bcpq88U9Tz+zNGfDLa3yTJxlhZQ==</pre></div></td></tr><tr><td>names</td><td><details class=\"dni-treeview\"><summary><span class=\"dni-code-hint\"><code>[ Edit on iPhone, Edit on Android ]</code></span></summary><div><table><thead><tr></tr></thead><tbody><tr><td><i>(values)</i></td><td><div class=\"dni-plaintext\"><pre>[ Edit on iPhone, Edit on Android ]</pre></div></td></tr></tbody></table></div></details></td></tr><tr><td>domains</td><td><details class=\"dni-treeview\"><summary><span class=\"dni-code-hint\"><code>[ michaelperry.net ]</code></span></summary><div><table><thead><tr></tr></thead><tbody><tr><td><i>(values)</i></td><td><div class=\"dni-plaintext\"><pre>[ michaelperry.net ]</pre></div></td></tr></tbody></table></div></details></td></tr></tbody></table></div></details></td></tr><tr><td>1</td><td><details class=\"dni-treeview\"><summary><span class=\"dni-code-hint\"><code>{ id = 8x5QVW0GXL0dEYQlg1J9uK8q231tm4imE9M+/jP2T+AXdBIxOM8Ag6vCQ2qnaYHlEPwZ9m3h68vA4r3kcUDrdg==, names = System.Linq.Enumerable+&lt;OfTypeIterator&gt;d__66`1[System.String], domains = System.Linq.Enumerable+&lt;OfTypeIterator&gt;d__66`1[System.String] }</code></span></summary><div><table><thead><tr></tr></thead><tbody><tr><td>id</td><td><div class=\"dni-plaintext\"><pre>8x5QVW0GXL0dEYQlg1J9uK8q231tm4imE9M+/jP2T+AXdBIxOM8Ag6vCQ2qnaYHlEPwZ9m3h68vA4r3kcUDrdg==</pre></div></td></tr><tr><td>names</td><td><details class=\"dni-treeview\"><summary><span class=\"dni-code-hint\"><code>[ Q.E.D. Code ]</code></span></summary><div><table><thead><tr></tr></thead><tbody><tr><td><i>(values)</i></td><td><div class=\"dni-plaintext\"><pre>[ Q.E.D. Code ]</pre></div></td></tr></tbody></table></div></details></td></tr><tr><td>domains</td><td><details class=\"dni-treeview\"><summary><span class=\"dni-code-hint\"><code>[ qedcode.com ]</code></span></summary><div><table><thead><tr></tr></thead><tbody><tr><td><i>(values)</i></td><td><div class=\"dni-plaintext\"><pre>[ qedcode.com ]</pre></div></td></tr></tbody></table></div></details></td></tr></tbody></table></div></details></td></tr></tbody></table><style>\r\n",
       ".dni-code-hint {\r\n",
       "    font-style: italic;\r\n",
       "    overflow: hidden;\r\n",
       "    white-space: nowrap;\r\n",
       "}\r\n",
       ".dni-treeview {\r\n",
       "    white-space: nowrap;\r\n",
       "}\r\n",
       ".dni-treeview td {\r\n",
       "    vertical-align: top;\r\n",
       "    text-align: start;\r\n",
       "}\r\n",
       "details.dni-treeview {\r\n",
       "    padding-left: 1em;\r\n",
       "}\r\n",
       "table td {\r\n",
       "    text-align: start;\r\n",
       "}\r\n",
       "table tr { \r\n",
       "    vertical-align: top; \r\n",
       "    margin: 0em 0px;\r\n",
       "}\r\n",
       "table tr td pre \r\n",
       "{ \r\n",
       "    vertical-align: top !important; \r\n",
       "    margin: 0em 0px !important;\r\n",
       "} \r\n",
       "table th {\r\n",
       "    text-align: start;\r\n",
       "}\r\n",
       "</style>"
      ]
     },
     "metadata": {},
     "output_type": "display_data"
    }
   ],
   "source": [
    "var sitesForUser = Given<User>.Match((user, facts) =>\n",
    "    from site in facts.OfType<Site>()\n",
    "    where site.creator == user\n",
    "    select new\n",
    "    {\n",
    "        id = jinagaClient.Hash(site),\n",
    "        names =\n",
    "            from name in facts.OfType<SiteName>()\n",
    "            where name.site == site &&\n",
    "                !facts.Any<SiteName>(next => next.prior.Contains(name))\n",
    "            select name.value,\n",
    "        domains =\n",
    "            from domain in facts.OfType<SiteDomain>()\n",
    "            where domain.site == site &&\n",
    "                !facts.Any<SiteDomain>(next => next.prior.Contains(domain))\n",
    "            select domain.value\n",
    "    }\n",
    ");\n",
    "\n",
    "(var user, var profile) = await jinagaClient.Login();\n",
    "var sites = await jinagaClient.Query(sitesForUser, user);\n",
    "\n",
    "sites"
   ]
  },
  {
   "cell_type": "code",
   "execution_count": 17,
   "metadata": {
    "dotnet_interactive": {
     "language": "csharp"
    },
    "polyglot_notebook": {
     "kernelName": "csharp"
    }
   },
   "outputs": [
    {
     "data": {
      "text/html": [
       "<?xml version=\"1.0\" encoding=\"UTF-8\" standalone=\"no\"?>\n",
       "<!DOCTYPE svg PUBLIC \"-//W3C//DTD SVG 1.1//EN\"\n",
       " \"http://www.w3.org/Graphics/SVG/1.1/DTD/svg11.dtd\">\n",
       "<!-- Generated by graphviz version 9.0.0 (20230911.1827)\n",
       " -->\n",
       "<!-- Pages: 1 -->\n",
       "<svg width=\"964pt\" height=\"380pt\"\n",
       " viewBox=\"0.00 0.00 964.00 379.50\" xmlns=\"http://www.w3.org/2000/svg\" xmlns:xlink=\"http://www.w3.org/1999/xlink\">\n",
       "<g id=\"graph0\" class=\"graph\" transform=\"scale(1 1) rotate(0) translate(4 375.5)\">\n",
       "<polygon fill=\"white\" stroke=\"none\" points=\"-4,4 -4,-375.5 960,-375.5 960,4 -4,4\"/>\n",
       "<!-- AQ4Gbhfr+dVEb5/jfuRvTIDY+Po2i13e8paA+5GhBQMiIj8fo1Y767RTZtuoxrURnb+W8VX8QtgBARPAOpZ59g== -->\n",
       "<g id=\"node1\" class=\"node\">\n",
       "<title>AQ4Gbhfr+dVEb5/jfuRvTIDY+Po2i13e8paA+5GhBQMiIj8fo1Y767RTZtuoxrURnb+W8VX8QtgBARPAOpZ59g==</title>\n",
       "<polygon fill=\"none\" stroke=\"black\" points=\"354,-345.5 354,-367.5 570,-367.5 570,-345.5 354,-345.5\"/>\n",
       "<text text-anchor=\"start\" x=\"430.12\" y=\"-351.2\" font-family=\"Times,serif\" font-size=\"14.00\">Jinaga.User</text>\n",
       "<polygon fill=\"none\" stroke=\"black\" points=\"354,-323.5 354,-345.5 416,-345.5 416,-323.5 354,-323.5\"/>\n",
       "<text text-anchor=\"start\" x=\"356.88\" y=\"-329.2\" font-family=\"Times,serif\" font-size=\"14.00\">publicKey</text>\n",
       "<polygon fill=\"none\" stroke=\"black\" points=\"416,-323.5 416,-345.5 570,-345.5 570,-323.5 416,-323.5\"/>\n",
       "<text text-anchor=\"start\" x=\"418.75\" y=\"-329.2\" font-family=\"Times,serif\" font-size=\"14.00\">&#45;&#45;&#45;&#45;&#45;BEGIN PUBLIC KE...</text>\n",
       "</g>\n",
       "<!-- +sYNBX9dkY7warmKFU+u5iesTSrk3a29AMNQbF6Hj3jElEd1TuCbs50ewh8bcpq88U9Tz+zNGfDLa3yTJxlhZQ== -->\n",
       "<g id=\"node2\" class=\"node\">\n",
       "<title>+sYNBX9dkY7warmKFU+u5iesTSrk3a29AMNQbF6Hj3jElEd1TuCbs50ewh8bcpq88U9Tz+zNGfDLa3yTJxlhZQ==</title>\n",
       "<polygon fill=\"none\" stroke=\"black\" points=\"214,-240 214,-262 358,-262 358,-240 214,-240\"/>\n",
       "<text text-anchor=\"start\" x=\"260.5\" y=\"-245.7\" font-family=\"Times,serif\" font-size=\"14.00\">Blog.Site</text>\n",
       "<polygon fill=\"none\" stroke=\"black\" points=\"214,-218 214,-240 261,-240 261,-218 214,-218\"/>\n",
       "<text text-anchor=\"start\" x=\"216.88\" y=\"-223.7\" font-family=\"Times,serif\" font-size=\"14.00\">domain</text>\n",
       "<polygon fill=\"none\" stroke=\"black\" points=\"261,-218 261,-240 358,-240 358,-218 261,-218\"/>\n",
       "<text text-anchor=\"start\" x=\"263.75\" y=\"-223.7\" font-family=\"Times,serif\" font-size=\"14.00\">michaelperry.net</text>\n",
       "<polygon fill=\"none\" stroke=\"black\" points=\"213,-217 213,-263 359,-263 359,-217 213,-217\"/>\n",
       "</g>\n",
       "<!-- +sYNBX9dkY7warmKFU+u5iesTSrk3a29AMNQbF6Hj3jElEd1TuCbs50ewh8bcpq88U9Tz+zNGfDLa3yTJxlhZQ==&#45;&gt;AQ4Gbhfr+dVEb5/jfuRvTIDY+Po2i13e8paA+5GhBQMiIj8fo1Y767RTZtuoxrURnb+W8VX8QtgBARPAOpZ59g== -->\n",
       "<g id=\"edge1\" class=\"edge\">\n",
       "<title>+sYNBX9dkY7warmKFU+u5iesTSrk3a29AMNQbF6Hj3jElEd1TuCbs50ewh8bcpq88U9Tz+zNGfDLa3yTJxlhZQ==&#45;&gt;AQ4Gbhfr+dVEb5/jfuRvTIDY+Po2i13e8paA+5GhBQMiIj8fo1Y767RTZtuoxrURnb+W8VX8QtgBARPAOpZ59g==</title>\n",
       "<path fill=\"none\" stroke=\"black\" d=\"M329.96,-266.85C354.14,-281.07 384.29,-298.8 409.68,-313.73\"/>\n",
       "<polygon fill=\"black\" stroke=\"black\" points=\"407.81,-316.69 418.21,-318.75 411.36,-310.66 407.81,-316.69\"/>\n",
       "<text text-anchor=\"middle\" x=\"403.75\" y=\"-288.2\" font-family=\"Times,serif\" font-size=\"14.00\">creator</text>\n",
       "</g>\n",
       "<!-- 8x5QVW0GXL0dEYQlg1J9uK8q231tm4imE9M+/jP2T+AXdBIxOM8Ag6vCQ2qnaYHlEPwZ9m3h68vA4r3kcUDrdg== -->\n",
       "<g id=\"node3\" class=\"node\">\n",
       "<title>8x5QVW0GXL0dEYQlg1J9uK8q231tm4imE9M+/jP2T+AXdBIxOM8Ag6vCQ2qnaYHlEPwZ9m3h68vA4r3kcUDrdg==</title>\n",
       "<polygon fill=\"none\" stroke=\"black\" points=\"577.5,-240 577.5,-262 702.5,-262 702.5,-240 577.5,-240\"/>\n",
       "<text text-anchor=\"start\" x=\"614.5\" y=\"-245.7\" font-family=\"Times,serif\" font-size=\"14.00\">Blog.Site</text>\n",
       "<polygon fill=\"none\" stroke=\"black\" points=\"577.5,-218 577.5,-240 624.5,-240 624.5,-218 577.5,-218\"/>\n",
       "<text text-anchor=\"start\" x=\"580.38\" y=\"-223.7\" font-family=\"Times,serif\" font-size=\"14.00\">domain</text>\n",
       "<polygon fill=\"none\" stroke=\"black\" points=\"624.5,-218 624.5,-240 702.5,-240 702.5,-218 624.5,-218\"/>\n",
       "<text text-anchor=\"start\" x=\"627.12\" y=\"-223.7\" font-family=\"Times,serif\" font-size=\"14.00\">qedcode.com</text>\n",
       "<polygon fill=\"none\" stroke=\"black\" points=\"576.5,-217 576.5,-263 703.5,-263 703.5,-217 576.5,-217\"/>\n",
       "</g>\n",
       "<!-- 8x5QVW0GXL0dEYQlg1J9uK8q231tm4imE9M+/jP2T+AXdBIxOM8Ag6vCQ2qnaYHlEPwZ9m3h68vA4r3kcUDrdg==&#45;&gt;AQ4Gbhfr+dVEb5/jfuRvTIDY+Po2i13e8paA+5GhBQMiIj8fo1Y767RTZtuoxrURnb+W8VX8QtgBARPAOpZ59g== -->\n",
       "<g id=\"edge2\" class=\"edge\">\n",
       "<title>8x5QVW0GXL0dEYQlg1J9uK8q231tm4imE9M+/jP2T+AXdBIxOM8Ag6vCQ2qnaYHlEPwZ9m3h68vA4r3kcUDrdg==&#45;&gt;AQ4Gbhfr+dVEb5/jfuRvTIDY+Po2i13e8paA+5GhBQMiIj8fo1Y767RTZtuoxrURnb+W8VX8QtgBARPAOpZ59g==</title>\n",
       "<path fill=\"none\" stroke=\"black\" d=\"M595.54,-266.85C571.09,-281.07 540.59,-298.8 514.92,-313.73\"/>\n",
       "<polygon fill=\"black\" stroke=\"black\" points=\"513.16,-310.7 506.28,-318.75 516.68,-316.75 513.16,-310.7\"/>\n",
       "<text text-anchor=\"middle\" x=\"580.75\" y=\"-288.2\" font-family=\"Times,serif\" font-size=\"14.00\">creator</text>\n",
       "</g>\n",
       "<!-- rGBjtl5vmw2vSHuu+TgWmUBzT6R60YmnQK95NukM3VBANGBfJJ2ldhetBcCEbu/sZvr6MP4+XKeaRxaI23+sNQ== -->\n",
       "<g id=\"node4\" class=\"node\">\n",
       "<title>rGBjtl5vmw2vSHuu+TgWmUBzT6R60YmnQK95NukM3VBANGBfJJ2ldhetBcCEbu/sZvr6MP4+XKeaRxaI23+sNQ==</title>\n",
       "<polygon fill=\"none\" stroke=\"black\" points=\"68.5,-133.5 68.5,-155.5 241.5,-155.5 241.5,-133.5 68.5,-133.5\"/>\n",
       "<text text-anchor=\"start\" x=\"111.12\" y=\"-139.2\" font-family=\"Times,serif\" font-size=\"14.00\">Blog.Site.Name</text>\n",
       "<polygon fill=\"none\" stroke=\"black\" points=\"68.5,-111.5 68.5,-133.5 103.5,-133.5 103.5,-111.5 68.5,-111.5\"/>\n",
       "<text text-anchor=\"start\" x=\"71.38\" y=\"-117.2\" font-family=\"Times,serif\" font-size=\"14.00\">value</text>\n",
       "<polygon fill=\"none\" stroke=\"black\" points=\"103.5,-111.5 103.5,-133.5 241.5,-133.5 241.5,-111.5 103.5,-111.5\"/>\n",
       "<text text-anchor=\"start\" x=\"106.12\" y=\"-117.2\" font-family=\"Times,serif\" font-size=\"14.00\">Michael Perry Dot Ne...</text>\n",
       "</g>\n",
       "<!-- rGBjtl5vmw2vSHuu+TgWmUBzT6R60YmnQK95NukM3VBANGBfJJ2ldhetBcCEbu/sZvr6MP4+XKeaRxaI23+sNQ==&#45;&gt;+sYNBX9dkY7warmKFU+u5iesTSrk3a29AMNQbF6Hj3jElEd1TuCbs50ewh8bcpq88U9Tz+zNGfDLa3yTJxlhZQ== -->\n",
       "<g id=\"edge3\" class=\"edge\">\n",
       "<title>rGBjtl5vmw2vSHuu+TgWmUBzT6R60YmnQK95NukM3VBANGBfJJ2ldhetBcCEbu/sZvr6MP4+XKeaRxaI23+sNQ==&#45;&gt;+sYNBX9dkY7warmKFU+u5iesTSrk3a29AMNQbF6Hj3jElEd1TuCbs50ewh8bcpq88U9Tz+zNGfDLa3yTJxlhZQ==</title>\n",
       "<path fill=\"none\" stroke=\"black\" d=\"M186.05,-159.27C203.68,-173.33 225.97,-191.12 245.03,-206.32\"/>\n",
       "<polygon fill=\"black\" stroke=\"black\" points=\"242.63,-208.88 252.63,-212.38 246.99,-203.41 242.63,-208.88\"/>\n",
       "<text text-anchor=\"middle\" x=\"238.38\" y=\"-181.7\" font-family=\"Times,serif\" font-size=\"14.00\">site</text>\n",
       "</g>\n",
       "<!-- fGBxRzFXVFcbhq3A2/8oqKP8BY8sv1LgCU56n6RNEb/XJlIEjuafM80D8N3H3xIr+lOVaX8Ezi5PnyRSkuhh5g== -->\n",
       "<g id=\"node5\" class=\"node\">\n",
       "<title>fGBxRzFXVFcbhq3A2/8oqKP8BY8sv1LgCU56n6RNEb/XJlIEjuafM80D8N3H3xIr+lOVaX8Ezi5PnyRSkuhh5g==</title>\n",
       "<polygon fill=\"none\" stroke=\"black\" points=\"9,-27 9,-49 131,-49 131,-27 9,-27\"/>\n",
       "<text text-anchor=\"start\" x=\"26.12\" y=\"-32.7\" font-family=\"Times,serif\" font-size=\"14.00\">Blog.Site.Name</text>\n",
       "<polygon fill=\"none\" stroke=\"black\" points=\"9,-5 9,-27 44,-27 44,-5 9,-5\"/>\n",
       "<text text-anchor=\"start\" x=\"11.88\" y=\"-10.7\" font-family=\"Times,serif\" font-size=\"14.00\">value</text>\n",
       "<polygon fill=\"none\" stroke=\"black\" points=\"44,-5 44,-27 131,-27 131,-5 44,-5\"/>\n",
       "<text text-anchor=\"start\" x=\"47\" y=\"-10.7\" font-family=\"Times,serif\" font-size=\"14.00\">Edit on iPhone</text>\n",
       "<polygon fill=\"none\" stroke=\"black\" points=\"8,-4 8,-50 132,-50 132,-4 8,-4\"/>\n",
       "</g>\n",
       "<!-- fGBxRzFXVFcbhq3A2/8oqKP8BY8sv1LgCU56n6RNEb/XJlIEjuafM80D8N3H3xIr+lOVaX8Ezi5PnyRSkuhh5g==&#45;&gt;+sYNBX9dkY7warmKFU+u5iesTSrk3a29AMNQbF6Hj3jElEd1TuCbs50ewh8bcpq88U9Tz+zNGfDLa3yTJxlhZQ== -->\n",
       "<g id=\"edge4\" class=\"edge\">\n",
       "<title>fGBxRzFXVFcbhq3A2/8oqKP8BY8sv1LgCU56n6RNEb/XJlIEjuafM80D8N3H3xIr+lOVaX8Ezi5PnyRSkuhh5g==&#45;&gt;+sYNBX9dkY7warmKFU+u5iesTSrk3a29AMNQbF6Hj3jElEd1TuCbs50ewh8bcpq88U9Tz+zNGfDLa3yTJxlhZQ==</title>\n",
       "<path fill=\"none\" stroke=\"black\" d=\"M50.55,-53.77C31.55,-82.32 8.69,-128.54 32.25,-160.5 51.94,-187.21 129.7,-208.7 194,-222.39\"/>\n",
       "<polygon fill=\"black\" stroke=\"black\" points=\"193.03,-225.77 203.53,-224.38 194.46,-218.91 193.03,-225.77\"/>\n",
       "<text text-anchor=\"middle\" x=\"42.38\" y=\"-128.45\" font-family=\"Times,serif\" font-size=\"14.00\">site</text>\n",
       "</g>\n",
       "<!-- fGBxRzFXVFcbhq3A2/8oqKP8BY8sv1LgCU56n6RNEb/XJlIEjuafM80D8N3H3xIr+lOVaX8Ezi5PnyRSkuhh5g==&#45;&gt;rGBjtl5vmw2vSHuu+TgWmUBzT6R60YmnQK95NukM3VBANGBfJJ2ldhetBcCEbu/sZvr6MP4+XKeaRxaI23+sNQ== -->\n",
       "<g id=\"edge5\" class=\"edge\">\n",
       "<title>fGBxRzFXVFcbhq3A2/8oqKP8BY8sv1LgCU56n6RNEb/XJlIEjuafM80D8N3H3xIr+lOVaX8Ezi5PnyRSkuhh5g==&#45;&gt;rGBjtl5vmw2vSHuu+TgWmUBzT6R60YmnQK95NukM3VBANGBfJJ2ldhetBcCEbu/sZvr6MP4+XKeaRxaI23+sNQ==</title>\n",
       "<path fill=\"none\" stroke=\"black\" d=\"M91.01,-53.83C102.08,-67.45 115.8,-84.31 127.69,-98.92\"/>\n",
       "<polygon fill=\"black\" stroke=\"black\" points=\"124.84,-100.96 133.86,-106.51 130.27,-96.54 124.84,-100.96\"/>\n",
       "<text text-anchor=\"middle\" x=\"131.12\" y=\"-75.2\" font-family=\"Times,serif\" font-size=\"14.00\">prior</text>\n",
       "</g>\n",
       "<!-- Sr94UUnTf1eKKY+grHuevOg+NFAlVLzwrv9xzM/3sdMBOzVzO61Q8O58Jp/QiREDifKjkRUQIuDkAZcDYsL1zg== -->\n",
       "<g id=\"node6\" class=\"node\">\n",
       "<title>Sr94UUnTf1eKKY+grHuevOg+NFAlVLzwrv9xzM/3sdMBOzVzO61Q8O58Jp/QiREDifKjkRUQIuDkAZcDYsL1zg==</title>\n",
       "<polygon fill=\"none\" stroke=\"black\" points=\"192,-27 192,-49 320,-49 320,-27 192,-27\"/>\n",
       "<text text-anchor=\"start\" x=\"212.12\" y=\"-32.7\" font-family=\"Times,serif\" font-size=\"14.00\">Blog.Site.Name</text>\n",
       "<polygon fill=\"none\" stroke=\"black\" points=\"192,-5 192,-27 227,-27 227,-5 192,-5\"/>\n",
       "<text text-anchor=\"start\" x=\"194.88\" y=\"-10.7\" font-family=\"Times,serif\" font-size=\"14.00\">value</text>\n",
       "<polygon fill=\"none\" stroke=\"black\" points=\"227,-5 227,-27 320,-27 320,-5 227,-5\"/>\n",
       "<text text-anchor=\"start\" x=\"229.62\" y=\"-10.7\" font-family=\"Times,serif\" font-size=\"14.00\">Edit on Android</text>\n",
       "<polygon fill=\"none\" stroke=\"black\" points=\"191,-4 191,-50 321,-50 321,-4 191,-4\"/>\n",
       "</g>\n",
       "<!-- Sr94UUnTf1eKKY+grHuevOg+NFAlVLzwrv9xzM/3sdMBOzVzO61Q8O58Jp/QiREDifKjkRUQIuDkAZcDYsL1zg==&#45;&gt;+sYNBX9dkY7warmKFU+u5iesTSrk3a29AMNQbF6Hj3jElEd1TuCbs50ewh8bcpq88U9Tz+zNGfDLa3yTJxlhZQ== -->\n",
       "<g id=\"edge6\" class=\"edge\">\n",
       "<title>Sr94UUnTf1eKKY+grHuevOg+NFAlVLzwrv9xzM/3sdMBOzVzO61Q8O58Jp/QiREDifKjkRUQIuDkAZcDYsL1zg==&#45;&gt;+sYNBX9dkY7warmKFU+u5iesTSrk3a29AMNQbF6Hj3jElEd1TuCbs50ewh8bcpq88U9Tz+zNGfDLa3yTJxlhZQ==</title>\n",
       "<path fill=\"none\" stroke=\"black\" d=\"M259.68,-53.87C264.96,-90.99 274.7,-159.54 280.74,-202.01\"/>\n",
       "<polygon fill=\"black\" stroke=\"black\" points=\"277.25,-202.34 282.13,-211.75 284.18,-201.35 277.25,-202.34\"/>\n",
       "<text text-anchor=\"middle\" x=\"284.38\" y=\"-128.45\" font-family=\"Times,serif\" font-size=\"14.00\">site</text>\n",
       "</g>\n",
       "<!-- Sr94UUnTf1eKKY+grHuevOg+NFAlVLzwrv9xzM/3sdMBOzVzO61Q8O58Jp/QiREDifKjkRUQIuDkAZcDYsL1zg==&#45;&gt;rGBjtl5vmw2vSHuu+TgWmUBzT6R60YmnQK95NukM3VBANGBfJJ2ldhetBcCEbu/sZvr6MP4+XKeaRxaI23+sNQ== -->\n",
       "<g id=\"edge7\" class=\"edge\">\n",
       "<title>Sr94UUnTf1eKKY+grHuevOg+NFAlVLzwrv9xzM/3sdMBOzVzO61Q8O58Jp/QiREDifKjkRUQIuDkAZcDYsL1zg==&#45;&gt;rGBjtl5vmw2vSHuu+TgWmUBzT6R60YmnQK95NukM3VBANGBfJJ2ldhetBcCEbu/sZvr6MP4+XKeaRxaI23+sNQ==</title>\n",
       "<path fill=\"none\" stroke=\"black\" d=\"M231.03,-53.83C217.63,-67.7 200.96,-84.94 186.65,-99.75\"/>\n",
       "<polygon fill=\"black\" stroke=\"black\" points=\"184.47,-96.97 180.04,-106.6 189.5,-101.84 184.47,-96.97\"/>\n",
       "<text text-anchor=\"middle\" x=\"225.12\" y=\"-75.2\" font-family=\"Times,serif\" font-size=\"14.00\">prior</text>\n",
       "</g>\n",
       "<!-- SsyqyaaxB+X+hArCtwQkJeGGqX4fTt8jKOon/uNI8oOoIKnnGinQGBm2OXBj049Vbp3HUFwtm/BG6Uj0c51KzA== -->\n",
       "<g id=\"node7\" class=\"node\">\n",
       "<title>SsyqyaaxB+X+hArCtwQkJeGGqX4fTt8jKOon/uNI8oOoIKnnGinQGBm2OXBj049Vbp3HUFwtm/BG6Uj0c51KzA==</title>\n",
       "<polygon fill=\"none\" stroke=\"black\" points=\"553.5,-133.5 553.5,-155.5 726.5,-155.5 726.5,-133.5 553.5,-133.5\"/>\n",
       "<text text-anchor=\"start\" x=\"596.12\" y=\"-139.2\" font-family=\"Times,serif\" font-size=\"14.00\">Blog.Site.Name</text>\n",
       "<polygon fill=\"none\" stroke=\"black\" points=\"553.5,-111.5 553.5,-133.5 588.5,-133.5 588.5,-111.5 553.5,-111.5\"/>\n",
       "<text text-anchor=\"start\" x=\"556.38\" y=\"-117.2\" font-family=\"Times,serif\" font-size=\"14.00\">value</text>\n",
       "<polygon fill=\"none\" stroke=\"black\" points=\"588.5,-111.5 588.5,-133.5 726.5,-133.5 726.5,-111.5 588.5,-111.5\"/>\n",
       "<text text-anchor=\"start\" x=\"591.12\" y=\"-117.2\" font-family=\"Times,serif\" font-size=\"14.00\">Michael Perry Dot Ne...</text>\n",
       "</g>\n",
       "<!-- SsyqyaaxB+X+hArCtwQkJeGGqX4fTt8jKOon/uNI8oOoIKnnGinQGBm2OXBj049Vbp3HUFwtm/BG6Uj0c51KzA==&#45;&gt;8x5QVW0GXL0dEYQlg1J9uK8q231tm4imE9M+/jP2T+AXdBIxOM8Ag6vCQ2qnaYHlEPwZ9m3h68vA4r3kcUDrdg== -->\n",
       "<g id=\"edge8\" class=\"edge\">\n",
       "<title>SsyqyaaxB+X+hArCtwQkJeGGqX4fTt8jKOon/uNI8oOoIKnnGinQGBm2OXBj049Vbp3HUFwtm/BG6Uj0c51KzA==&#45;&gt;8x5QVW0GXL0dEYQlg1J9uK8q231tm4imE9M+/jP2T+AXdBIxOM8Ag6vCQ2qnaYHlEPwZ9m3h68vA4r3kcUDrdg==</title>\n",
       "<path fill=\"none\" stroke=\"black\" d=\"M640,-159.27C640,-172 640,-187.77 640,-201.92\"/>\n",
       "<polygon fill=\"black\" stroke=\"black\" points=\"636.5,-201.81 640,-211.81 643.5,-201.81 636.5,-201.81\"/>\n",
       "<text text-anchor=\"middle\" x=\"649.38\" y=\"-181.7\" font-family=\"Times,serif\" font-size=\"14.00\">site</text>\n",
       "</g>\n",
       "<!-- AQNNc5mpc+kXjjXUlnxWIq39LX1MnQwJ2DP7aJ6jmg4dmpsInnpm8Lsu85/yvvcm9a9HF4sP7vnXsHWvFl/5AA== -->\n",
       "<g id=\"node8\" class=\"node\">\n",
       "<title>AQNNc5mpc+kXjjXUlnxWIq39LX1MnQwJ2DP7aJ6jmg4dmpsInnpm8Lsu85/yvvcm9a9HF4sP7vnXsHWvFl/5AA==</title>\n",
       "<polygon fill=\"none\" stroke=\"black\" points=\"494,-27 494,-49 606,-49 606,-27 494,-27\"/>\n",
       "<text text-anchor=\"start\" x=\"506.12\" y=\"-32.7\" font-family=\"Times,serif\" font-size=\"14.00\">Blog.Site.Name</text>\n",
       "<polygon fill=\"none\" stroke=\"black\" points=\"494,-5 494,-27 529,-27 529,-5 494,-5\"/>\n",
       "<text text-anchor=\"start\" x=\"496.88\" y=\"-10.7\" font-family=\"Times,serif\" font-size=\"14.00\">value</text>\n",
       "<polygon fill=\"none\" stroke=\"black\" points=\"529,-5 529,-27 606,-27 606,-5 529,-5\"/>\n",
       "<text text-anchor=\"start\" x=\"531.88\" y=\"-10.7\" font-family=\"Times,serif\" font-size=\"14.00\">Q.E.D. Code</text>\n",
       "<polygon fill=\"none\" stroke=\"black\" points=\"493,-4 493,-50 607,-50 607,-4 493,-4\"/>\n",
       "</g>\n",
       "<!-- AQNNc5mpc+kXjjXUlnxWIq39LX1MnQwJ2DP7aJ6jmg4dmpsInnpm8Lsu85/yvvcm9a9HF4sP7vnXsHWvFl/5AA==&#45;&gt;8x5QVW0GXL0dEYQlg1J9uK8q231tm4imE9M+/jP2T+AXdBIxOM8Ag6vCQ2qnaYHlEPwZ9m3h68vA4r3kcUDrdg== -->\n",
       "<g id=\"edge9\" class=\"edge\">\n",
       "<title>AQNNc5mpc+kXjjXUlnxWIq39LX1MnQwJ2DP7aJ6jmg4dmpsInnpm8Lsu85/yvvcm9a9HF4sP7vnXsHWvFl/5AA==&#45;&gt;8x5QVW0GXL0dEYQlg1J9uK8q231tm4imE9M+/jP2T+AXdBIxOM8Ag6vCQ2qnaYHlEPwZ9m3h68vA4r3kcUDrdg==</title>\n",
       "<path fill=\"none\" stroke=\"black\" d=\"M533.12,-53.83C517.28,-81.62 498.59,-126.41 517.25,-160.5 527.96,-180.06 545.84,-195.45 564.69,-207.23\"/>\n",
       "<polygon fill=\"black\" stroke=\"black\" points=\"562.91,-210.24 573.3,-212.3 566.46,-204.21 562.91,-210.24\"/>\n",
       "<text text-anchor=\"middle\" x=\"527.38\" y=\"-128.45\" font-family=\"Times,serif\" font-size=\"14.00\">site</text>\n",
       "</g>\n",
       "<!-- AQNNc5mpc+kXjjXUlnxWIq39LX1MnQwJ2DP7aJ6jmg4dmpsInnpm8Lsu85/yvvcm9a9HF4sP7vnXsHWvFl/5AA==&#45;&gt;SsyqyaaxB+X+hArCtwQkJeGGqX4fTt8jKOon/uNI8oOoIKnnGinQGBm2OXBj049Vbp3HUFwtm/BG6Uj0c51KzA== -->\n",
       "<g id=\"edge10\" class=\"edge\">\n",
       "<title>AQNNc5mpc+kXjjXUlnxWIq39LX1MnQwJ2DP7aJ6jmg4dmpsInnpm8Lsu85/yvvcm9a9HF4sP7vnXsHWvFl/5AA==&#45;&gt;SsyqyaaxB+X+hArCtwQkJeGGqX4fTt8jKOon/uNI8oOoIKnnGinQGBm2OXBj049Vbp3HUFwtm/BG6Uj0c51KzA==</title>\n",
       "<path fill=\"none\" stroke=\"black\" d=\"M572.25,-53.83C584.08,-67.57 598.77,-84.63 611.44,-99.34\"/>\n",
       "<polygon fill=\"black\" stroke=\"black\" points=\"608.46,-101.25 617.64,-106.54 613.77,-96.68 608.46,-101.25\"/>\n",
       "<text text-anchor=\"middle\" x=\"614.12\" y=\"-75.2\" font-family=\"Times,serif\" font-size=\"14.00\">prior</text>\n",
       "</g>\n",
       "<!-- Biy8mPW8tn2pwag3t9M+iWb9wZQ2WZxfOuSqR+NGUf0fkmTzYPOvGftY3gGXH6TqFR8MpEtNX3MPy4r2CNr5pA== -->\n",
       "<g id=\"node9\" class=\"node\">\n",
       "<title>Biy8mPW8tn2pwag3t9M+iWb9wZQ2WZxfOuSqR+NGUf0fkmTzYPOvGftY3gGXH6TqFR8MpEtNX3MPy4r2CNr5pA==</title>\n",
       "<polygon fill=\"none\" stroke=\"black\" points=\"332,-133.5 332,-155.5 464,-155.5 464,-133.5 332,-133.5\"/>\n",
       "<text text-anchor=\"start\" x=\"348.5\" y=\"-139.2\" font-family=\"Times,serif\" font-size=\"14.00\">Blog.Site.Domain</text>\n",
       "<polygon fill=\"none\" stroke=\"black\" points=\"332,-111.5 332,-133.5 367,-133.5 367,-111.5 332,-111.5\"/>\n",
       "<text text-anchor=\"start\" x=\"334.88\" y=\"-117.2\" font-family=\"Times,serif\" font-size=\"14.00\">value</text>\n",
       "<polygon fill=\"none\" stroke=\"black\" points=\"367,-111.5 367,-133.5 464,-133.5 464,-111.5 367,-111.5\"/>\n",
       "<text text-anchor=\"start\" x=\"369.75\" y=\"-117.2\" font-family=\"Times,serif\" font-size=\"14.00\">michaelperry.net</text>\n",
       "<polygon fill=\"none\" stroke=\"black\" points=\"331,-110.5 331,-156.5 465,-156.5 465,-110.5 331,-110.5\"/>\n",
       "</g>\n",
       "<!-- Biy8mPW8tn2pwag3t9M+iWb9wZQ2WZxfOuSqR+NGUf0fkmTzYPOvGftY3gGXH6TqFR8MpEtNX3MPy4r2CNr5pA==&#45;&gt;+sYNBX9dkY7warmKFU+u5iesTSrk3a29AMNQbF6Hj3jElEd1TuCbs50ewh8bcpq88U9Tz+zNGfDLa3yTJxlhZQ== -->\n",
       "<g id=\"edge11\" class=\"edge\">\n",
       "<title>Biy8mPW8tn2pwag3t9M+iWb9wZQ2WZxfOuSqR+NGUf0fkmTzYPOvGftY3gGXH6TqFR8MpEtNX3MPy4r2CNr5pA==&#45;&gt;+sYNBX9dkY7warmKFU+u5iesTSrk3a29AMNQbF6Hj3jElEd1TuCbs50ewh8bcpq88U9Tz+zNGfDLa3yTJxlhZQ==</title>\n",
       "<path fill=\"none\" stroke=\"black\" d=\"M370.31,-160.33C355.78,-173.9 337.78,-190.69 322.16,-205.27\"/>\n",
       "<polygon fill=\"black\" stroke=\"black\" points=\"319.79,-202.69 314.86,-212.07 324.56,-207.81 319.79,-202.69\"/>\n",
       "<text text-anchor=\"middle\" x=\"358.38\" y=\"-181.7\" font-family=\"Times,serif\" font-size=\"14.00\">site</text>\n",
       "</g>\n",
       "<!-- wMe2Qfj+NMNa1votw1N8qBEer4WSfvgYAUZ3Mr7a9etJg6BRSxmPkqBHscFT1Is3Wy5r8J8y9w3oO3Du2ZNYqw== -->\n",
       "<g id=\"node10\" class=\"node\">\n",
       "<title>wMe2Qfj+NMNa1votw1N8qBEer4WSfvgYAUZ3Mr7a9etJg6BRSxmPkqBHscFT1Is3Wy5r8J8y9w3oO3Du2ZNYqw==</title>\n",
       "<polygon fill=\"none\" stroke=\"black\" points=\"816,-133.5 816,-155.5 948,-155.5 948,-133.5 816,-133.5\"/>\n",
       "<text text-anchor=\"start\" x=\"832.5\" y=\"-139.2\" font-family=\"Times,serif\" font-size=\"14.00\">Blog.Site.Domain</text>\n",
       "<polygon fill=\"none\" stroke=\"black\" points=\"816,-111.5 816,-133.5 851,-133.5 851,-111.5 816,-111.5\"/>\n",
       "<text text-anchor=\"start\" x=\"818.88\" y=\"-117.2\" font-family=\"Times,serif\" font-size=\"14.00\">value</text>\n",
       "<polygon fill=\"none\" stroke=\"black\" points=\"851,-111.5 851,-133.5 948,-133.5 948,-111.5 851,-111.5\"/>\n",
       "<text text-anchor=\"start\" x=\"853.75\" y=\"-117.2\" font-family=\"Times,serif\" font-size=\"14.00\">michaelperry.net</text>\n",
       "</g>\n",
       "<!-- wMe2Qfj+NMNa1votw1N8qBEer4WSfvgYAUZ3Mr7a9etJg6BRSxmPkqBHscFT1Is3Wy5r8J8y9w3oO3Du2ZNYqw==&#45;&gt;8x5QVW0GXL0dEYQlg1J9uK8q231tm4imE9M+/jP2T+AXdBIxOM8Ag6vCQ2qnaYHlEPwZ9m3h68vA4r3kcUDrdg== -->\n",
       "<g id=\"edge12\" class=\"edge\">\n",
       "<title>wMe2Qfj+NMNa1votw1N8qBEer4WSfvgYAUZ3Mr7a9etJg6BRSxmPkqBHscFT1Is3Wy5r8J8y9w3oO3Du2ZNYqw==&#45;&gt;8x5QVW0GXL0dEYQlg1J9uK8q231tm4imE9M+/jP2T+AXdBIxOM8Ag6vCQ2qnaYHlEPwZ9m3h68vA4r3kcUDrdg==</title>\n",
       "<path fill=\"none\" stroke=\"black\" d=\"M847.32,-159.25C829.36,-171.25 806.69,-185.15 785,-195 765.21,-203.98 743.1,-211.75 722.22,-218.15\"/>\n",
       "<polygon fill=\"black\" stroke=\"black\" points=\"721.46,-214.72 712.88,-220.94 723.47,-221.43 721.46,-214.72\"/>\n",
       "<text text-anchor=\"middle\" x=\"824.38\" y=\"-181.7\" font-family=\"Times,serif\" font-size=\"14.00\">site</text>\n",
       "</g>\n",
       "<!-- LZDaytcV6JPeCa0GpNfIalqLUcTdKutuLZ/6zOJVHv95oP1XNOamFoCOC8PcH1mAxEODvGVDnzHYkTw36mYnQg== -->\n",
       "<g id=\"node11\" class=\"node\">\n",
       "<title>LZDaytcV6JPeCa0GpNfIalqLUcTdKutuLZ/6zOJVHv95oP1XNOamFoCOC8PcH1mAxEODvGVDnzHYkTw36mYnQg==</title>\n",
       "<polygon fill=\"none\" stroke=\"black\" points=\"750.5,-27 750.5,-49 863.5,-49 863.5,-27 750.5,-27\"/>\n",
       "<text text-anchor=\"start\" x=\"757.5\" y=\"-32.7\" font-family=\"Times,serif\" font-size=\"14.00\">Blog.Site.Domain</text>\n",
       "<polygon fill=\"none\" stroke=\"black\" points=\"750.5,-5 750.5,-27 785.5,-27 785.5,-5 750.5,-5\"/>\n",
       "<text text-anchor=\"start\" x=\"753.38\" y=\"-10.7\" font-family=\"Times,serif\" font-size=\"14.00\">value</text>\n",
       "<polygon fill=\"none\" stroke=\"black\" points=\"785.5,-5 785.5,-27 863.5,-27 863.5,-5 785.5,-5\"/>\n",
       "<text text-anchor=\"start\" x=\"788.12\" y=\"-10.7\" font-family=\"Times,serif\" font-size=\"14.00\">qedcode.com</text>\n",
       "<polygon fill=\"none\" stroke=\"black\" points=\"749.5,-4 749.5,-50 864.5,-50 864.5,-4 749.5,-4\"/>\n",
       "</g>\n",
       "<!-- LZDaytcV6JPeCa0GpNfIalqLUcTdKutuLZ/6zOJVHv95oP1XNOamFoCOC8PcH1mAxEODvGVDnzHYkTw36mYnQg==&#45;&gt;8x5QVW0GXL0dEYQlg1J9uK8q231tm4imE9M+/jP2T+AXdBIxOM8Ag6vCQ2qnaYHlEPwZ9m3h68vA4r3kcUDrdg== -->\n",
       "<g id=\"edge13\" class=\"edge\">\n",
       "<title>LZDaytcV6JPeCa0GpNfIalqLUcTdKutuLZ/6zOJVHv95oP1XNOamFoCOC8PcH1mAxEODvGVDnzHYkTw36mYnQg==&#45;&gt;8x5QVW0GXL0dEYQlg1J9uK8q231tm4imE9M+/jP2T+AXdBIxOM8Ag6vCQ2qnaYHlEPwZ9m3h68vA4r3kcUDrdg==</title>\n",
       "<path fill=\"none\" stroke=\"black\" d=\"M798.85,-53.98C789.05,-82.3 770.56,-127.93 744,-160.5 729.7,-178.04 710.69,-193.86 692.83,-206.63\"/>\n",
       "<polygon fill=\"black\" stroke=\"black\" points=\"691.09,-203.58 684.88,-212.16 695.09,-209.33 691.09,-203.58\"/>\n",
       "<text text-anchor=\"middle\" x=\"785.38\" y=\"-128.45\" font-family=\"Times,serif\" font-size=\"14.00\">site</text>\n",
       "</g>\n",
       "<!-- LZDaytcV6JPeCa0GpNfIalqLUcTdKutuLZ/6zOJVHv95oP1XNOamFoCOC8PcH1mAxEODvGVDnzHYkTw36mYnQg==&#45;&gt;wMe2Qfj+NMNa1votw1N8qBEer4WSfvgYAUZ3Mr7a9etJg6BRSxmPkqBHscFT1Is3Wy5r8J8y9w3oO3Du2ZNYqw== -->\n",
       "<g id=\"edge14\" class=\"edge\">\n",
       "<title>LZDaytcV6JPeCa0GpNfIalqLUcTdKutuLZ/6zOJVHv95oP1XNOamFoCOC8PcH1mAxEODvGVDnzHYkTw36mYnQg==&#45;&gt;wMe2Qfj+NMNa1votw1N8qBEer4WSfvgYAUZ3Mr7a9etJg6BRSxmPkqBHscFT1Is3Wy5r8J8y9w3oO3Du2ZNYqw==</title>\n",
       "<path fill=\"none\" stroke=\"black\" d=\"M825.54,-53.83C835.22,-67.32 847.18,-83.99 857.6,-98.51\"/>\n",
       "<polygon fill=\"black\" stroke=\"black\" points=\"854.63,-100.37 863.31,-106.46 860.32,-96.29 854.63,-100.37\"/>\n",
       "<text text-anchor=\"middle\" x=\"861.12\" y=\"-75.2\" font-family=\"Times,serif\" font-size=\"14.00\">prior</text>\n",
       "</g>\n",
       "</g>\n",
       "</svg>\n"
      ]
     },
     "metadata": {},
     "output_type": "display_data"
    }
   ],
   "source": [
    "var siteFactsForUser = Given<User>.Match((user, facts) =>\n",
    "    from site in facts.OfType<Site>()\n",
    "    where site.creator == user\n",
    "    select site\n",
    ");\n",
    "\n",
    "var siteNamesForUser = Given<User>.Match((user, facts) =>\n",
    "    from site in facts.OfType<Site>()\n",
    "    where site.creator == user\n",
    "    from name in facts.OfType<SiteName>()\n",
    "    where name.site == site &&\n",
    "        !facts.Any<SiteName>(next => next.prior.Contains(name))\n",
    "    select name\n",
    ");\n",
    "\n",
    "var siteDomainsForUser = Given<User>.Match((user, facts) =>\n",
    "    from site in facts.OfType<Site>()\n",
    "    where site.creator == user\n",
    "    from domain in facts.OfType<SiteDomain>()\n",
    "    where domain.site == site &&\n",
    "        !facts.Any<SiteDomain>(next => next.prior.Contains(domain))\n",
    "    select domain\n",
    ");\n",
    "\n",
    "var siteFacts = await jinagaClient.Query(siteFactsForUser, user);\n",
    "var siteNames = await jinagaClient.Query(siteNamesForUser, user);\n",
    "var siteDomains = await jinagaClient.Query(siteDomainsForUser, user);\n",
    "\n",
    "jinagaClient.RenderFacts(siteFacts, siteNames, siteDomains)"
   ]
  }
 ],
 "metadata": {
  "kernelspec": {
   "display_name": ".NET (C#)",
   "language": "C#",
   "name": ".net-csharp"
  },
  "language_info": {
   "name": "polyglot-notebook"
  },
  "polyglot_notebook": {
   "kernelInfo": {
    "defaultKernelName": "csharp",
    "items": [
     {
      "aliases": [],
      "languageName": "csharp",
      "name": "csharp"
     }
    ]
   }
  }
 },
 "nbformat": 4,
 "nbformat_minor": 2
}
