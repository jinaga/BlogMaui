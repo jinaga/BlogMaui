{
 "cells": [
  {
   "cell_type": "code",
   "execution_count": 1,
   "metadata": {
    "dotnet_interactive": {
     "language": "csharp"
    },
    "polyglot_notebook": {
     "kernelName": "csharp"
    }
   },
   "outputs": [
    {
     "data": {
      "text/html": [
       "<div><div></div><div></div><div><strong>Installed Packages</strong><ul><li><span>Jinaga, 0.10.0</span></li></ul></div></div>"
      ]
     },
     "metadata": {},
     "output_type": "display_data"
    }
   ],
   "source": [
    "#r \"nuget: Jinaga\"\n"
   ]
  },
  {
   "cell_type": "code",
   "execution_count": 2,
   "metadata": {
    "dotnet_interactive": {
     "language": "csharp"
    },
    "polyglot_notebook": {
     "kernelName": "csharp"
    }
   },
   "outputs": [],
   "source": [
    "using Jinaga;\n",
    "using Jinaga.Http;"
   ]
  },
  {
   "cell_type": "code",
   "execution_count": 5,
   "metadata": {
    "dotnet_interactive": {
     "language": "csharp"
    },
    "polyglot_notebook": {
     "kernelName": "csharp"
    }
   },
   "outputs": [],
   "source": [
    "class TokenAuthenticationProvider : IHttpAuthenticationProvider\n",
    "{\n",
    "    private string token;\n",
    "\n",
    "    public TokenAuthenticationProvider(string token)\n",
    "    {\n",
    "        this.token = token;\n",
    "    }\n",
    "\n",
    "    public void SetRequestHeaders(System.Net.Http.Headers.HttpRequestHeaders headers)\n",
    "    {\n",
    "        headers.Add(\"Authorization\", $\"Bearer {token}\");\n",
    "    }\n",
    "\n",
    "    public Task<bool> Reauthenticate()\n",
    "    {\n",
    "        return Task.FromResult(false);\n",
    "    }\n",
    "}"
   ]
  },
  {
   "cell_type": "markdown",
   "metadata": {},
   "source": [
    "Create a file called `settings.json` and put the following settings into it:\n",
    "\n",
    "```json\n",
    "{\n",
    "    \"HttpEndpoint\": \"https://repdev.jinaga.com/....\",\n",
    "    \"AuthorizationToken\": \"eyJh....\"\n",
    "}\n",
    "```"
   ]
  },
  {
   "cell_type": "code",
   "execution_count": 11,
   "metadata": {
    "dotnet_interactive": {
     "language": "csharp"
    },
    "polyglot_notebook": {
     "kernelName": "csharp"
    }
   },
   "outputs": [],
   "source": [
    "#!value --from-file settings.json --name settings"
   ]
  },
  {
   "cell_type": "code",
   "execution_count": 12,
   "metadata": {
    "dotnet_interactive": {
     "language": "csharp"
    },
    "polyglot_notebook": {
     "kernelName": "csharp"
    }
   },
   "outputs": [],
   "source": [
    "#!share settings --from value\n",
    "\n",
    "var parsedSettings = System.Text.Json.JsonSerializer.Deserialize<Dictionary<string, string>>(settings);\n",
    "\n",
    "var jinagaClient = JinagaClient.Create(options =>\n",
    "{\n",
    "    options.HttpEndpoint = new Uri(parsedSettings[\"HttpEndpoint\"]);\n",
    "    options.HttpAuthenticationProvider = new TokenAuthenticationProvider(parsedSettings[\"AuthorizationToken\"]);\n",
    "});"
   ]
  },
  {
   "cell_type": "code",
   "execution_count": 8,
   "metadata": {
    "dotnet_interactive": {
     "language": "csharp"
    },
    "polyglot_notebook": {
     "kernelName": "csharp"
    }
   },
   "outputs": [],
   "source": [
    "[FactType(\"Blog.User.Name\")]\n",
    "public partial record UserName(User user, string value, UserName[] prior) { }\n",
    "\n",
    "[FactType(\"Blog.Site\")]\n",
    "public partial record Site(User creator, DateTime createdAt) { }\n",
    "\n",
    "[FactType(\"Blog.Site.Name\")]\n",
    "public partial record SiteName(Site site, string value, SiteName[] prior) { }\n",
    "\n",
    "[FactType(\"Blog.Site.Domain\")]\n",
    "public partial record SiteDomain(Site site, string value, SiteDomain[] prior) { }\n",
    "\n",
    "[FactType(\"Blog.Post\")]\n",
    "public partial record Post(Site site, User author, DateTime createdAt) { }\n",
    "\n",
    "[FactType(\"Blog.Post.Title\")]\n",
    "public partial record PostTitle(Post post, string value, PostTitle[] prior) { }\n",
    "\n",
    "[FactType(\"Blog.Post.Deleted\")]\n",
    "public partial record PostDeleted(Post post, DateTime deletedAt) { }\n",
    "\n",
    "[FactType(\"Blog.Post.Publish\")]\n",
    "public partial record Publish(Post post, DateTime date) { }"
   ]
  },
  {
   "cell_type": "code",
   "execution_count": 13,
   "metadata": {
    "dotnet_interactive": {
     "language": "csharp"
    },
    "polyglot_notebook": {
     "kernelName": "csharp"
    }
   },
   "outputs": [
    {
     "data": {
      "text/html": [
       "<table><thead><tr><th><i>index</i></th><th>value</th></tr></thead><tbody><tr><td>0</td><td><details class=\"dni-treeview\"><summary><span class=\"dni-code-hint\"><code>{ id = +sYNBX9dkY7warmKFU+u5iesTSrk3a29AMNQbF6Hj3jElEd1TuCbs50ewh8bcpq88U9Tz+zNGfDLa3yTJxlhZQ==, names = System.Linq.Enumerable+&lt;OfTypeIterator&gt;d__66`1[System.String], domains = System.Linq.Enumerable+&lt;OfTypeIterator&gt;d__66`1[System.String] }</code></span></summary><div><table><thead><tr></tr></thead><tbody><tr><td>id</td><td><div class=\"dni-plaintext\"><pre>+sYNBX9dkY7warmKFU+u5iesTSrk3a29AMNQbF6Hj3jElEd1TuCbs50ewh8bcpq88U9Tz+zNGfDLa3yTJxlhZQ==</pre></div></td></tr><tr><td>names</td><td><details class=\"dni-treeview\"><summary><span class=\"dni-code-hint\"><code>[  ]</code></span></summary><div><table><thead><tr></tr></thead><tbody><tr><td><i>(values)</i></td><td><div class=\"dni-plaintext\"><pre>[  ]</pre></div></td></tr></tbody></table></div></details></td></tr><tr><td>domains</td><td><details class=\"dni-treeview\"><summary><span class=\"dni-code-hint\"><code>[  ]</code></span></summary><div><table><thead><tr></tr></thead><tbody><tr><td><i>(values)</i></td><td><div class=\"dni-plaintext\"><pre>[  ]</pre></div></td></tr></tbody></table></div></details></td></tr></tbody></table></div></details></td></tr><tr><td>1</td><td><details class=\"dni-treeview\"><summary><span class=\"dni-code-hint\"><code>{ id = 8x5QVW0GXL0dEYQlg1J9uK8q231tm4imE9M+/jP2T+AXdBIxOM8Ag6vCQ2qnaYHlEPwZ9m3h68vA4r3kcUDrdg==, names = System.Linq.Enumerable+&lt;OfTypeIterator&gt;d__66`1[System.String], domains = System.Linq.Enumerable+&lt;OfTypeIterator&gt;d__66`1[System.String] }</code></span></summary><div><table><thead><tr></tr></thead><tbody><tr><td>id</td><td><div class=\"dni-plaintext\"><pre>8x5QVW0GXL0dEYQlg1J9uK8q231tm4imE9M+/jP2T+AXdBIxOM8Ag6vCQ2qnaYHlEPwZ9m3h68vA4r3kcUDrdg==</pre></div></td></tr><tr><td>names</td><td><details class=\"dni-treeview\"><summary><span class=\"dni-code-hint\"><code>[ Michael Perry Dot Net ]</code></span></summary><div><table><thead><tr></tr></thead><tbody><tr><td><i>(values)</i></td><td><div class=\"dni-plaintext\"><pre>[ Michael Perry Dot Net ]</pre></div></td></tr></tbody></table></div></details></td></tr><tr><td>domains</td><td><details class=\"dni-treeview\"><summary><span class=\"dni-code-hint\"><code>[ michaelperry.net ]</code></span></summary><div><table><thead><tr></tr></thead><tbody><tr><td><i>(values)</i></td><td><div class=\"dni-plaintext\"><pre>[ michaelperry.net ]</pre></div></td></tr></tbody></table></div></details></td></tr></tbody></table></div></details></td></tr></tbody></table><style>\r\n",
       ".dni-code-hint {\r\n",
       "    font-style: italic;\r\n",
       "    overflow: hidden;\r\n",
       "    white-space: nowrap;\r\n",
       "}\r\n",
       ".dni-treeview {\r\n",
       "    white-space: nowrap;\r\n",
       "}\r\n",
       ".dni-treeview td {\r\n",
       "    vertical-align: top;\r\n",
       "    text-align: start;\r\n",
       "}\r\n",
       "details.dni-treeview {\r\n",
       "    padding-left: 1em;\r\n",
       "}\r\n",
       "table td {\r\n",
       "    text-align: start;\r\n",
       "}\r\n",
       "table tr { \r\n",
       "    vertical-align: top; \r\n",
       "    margin: 0em 0px;\r\n",
       "}\r\n",
       "table tr td pre \r\n",
       "{ \r\n",
       "    vertical-align: top !important; \r\n",
       "    margin: 0em 0px !important;\r\n",
       "} \r\n",
       "table th {\r\n",
       "    text-align: start;\r\n",
       "}\r\n",
       "</style>"
      ]
     },
     "metadata": {},
     "output_type": "display_data"
    }
   ],
   "source": [
    "var sitesForUser = Given<User>.Match((user, facts) =>\n",
    "    from site in facts.OfType<Site>()\n",
    "    where site.creator == user\n",
    "    select new\n",
    "    {\n",
    "        id = jinagaClient.Hash(site),\n",
    "        names =\n",
    "            from name in facts.OfType<SiteName>()\n",
    "            where name.site == site &&\n",
    "                !facts.Any<SiteName>(next => next.prior.Contains(name))\n",
    "            select name.value,\n",
    "        domains =\n",
    "            from domain in facts.OfType<SiteDomain>()\n",
    "            where domain.site == site &&\n",
    "                !facts.Any<SiteDomain>(next => next.prior.Contains(domain))\n",
    "            select domain.value\n",
    "    }\n",
    ");\n",
    "\n",
    "(var user, var profile) = await jinagaClient.Login();\n",
    "var sites = await jinagaClient.Query(sitesForUser, user);\n",
    "\n",
    "sites"
   ]
  }
 ],
 "metadata": {
  "kernelspec": {
   "display_name": ".NET (C#)",
   "language": "C#",
   "name": ".net-csharp"
  },
  "language_info": {
   "name": "polyglot-notebook"
  },
  "polyglot_notebook": {
   "kernelInfo": {
    "defaultKernelName": "csharp",
    "items": [
     {
      "aliases": [],
      "languageName": "csharp",
      "name": "csharp"
     }
    ]
   }
  }
 },
 "nbformat": 4,
 "nbformat_minor": 2
}
