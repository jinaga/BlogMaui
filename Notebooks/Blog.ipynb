{
 "cells": [
  {
   "cell_type": "code",
   "execution_count": 11,
   "metadata": {
    "dotnet_interactive": {
     "language": "csharp"
    },
    "polyglot_notebook": {
     "kernelName": "csharp"
    }
   },
   "outputs": [
    {
     "data": {
      "text/html": [
       "<div><div><strong>Restore sources</strong><ul><li><span> /Users/michaelperry/.nuget/NuGet/packages</span></li></ul></div><div></div><div><strong>Installed Packages</strong><ul><li><span>Jinaga, 0.10.1-alpha.0.1</span></li><li><span>Jinaga.Graphviz, 0.10.1-alpha.0.1</span></li></ul></div></div>"
      ]
     },
     "metadata": {},
     "output_type": "display_data"
    }
   ],
   "source": [
    "#r \"nuget: Jinaga\"\n",
    "#r \"nuget: Jinaga.Graphviz\""
   ]
  },
  {
   "cell_type": "code",
   "execution_count": 12,
   "metadata": {
    "dotnet_interactive": {
     "language": "csharp"
    },
    "polyglot_notebook": {
     "kernelName": "csharp"
    }
   },
   "outputs": [],
   "source": [
    "using Jinaga;\n",
    "using Jinaga.Http;\n",
    "using Jinaga.Graphviz;"
   ]
  },
  {
   "cell_type": "code",
   "execution_count": 13,
   "metadata": {
    "dotnet_interactive": {
     "language": "csharp"
    },
    "polyglot_notebook": {
     "kernelName": "csharp"
    }
   },
   "outputs": [],
   "source": [
    "class TokenAuthenticationProvider : IHttpAuthenticationProvider\n",
    "{\n",
    "    private string token;\n",
    "\n",
    "    public TokenAuthenticationProvider(string token)\n",
    "    {\n",
    "        this.token = token;\n",
    "    }\n",
    "\n",
    "    public void SetRequestHeaders(System.Net.Http.Headers.HttpRequestHeaders headers)\n",
    "    {\n",
    "        headers.Add(\"Authorization\", $\"Bearer {token}\");\n",
    "    }\n",
    "\n",
    "    public Task<bool> Reauthenticate()\n",
    "    {\n",
    "        return Task.FromResult(false);\n",
    "    }\n",
    "}"
   ]
  },
  {
   "cell_type": "markdown",
   "metadata": {},
   "source": [
    "Create a file called `settings.json` and put the following settings into it:\n",
    "\n",
    "```json\n",
    "{\n",
    "    \"HttpEndpoint\": \"https://repdev.jinaga.com/....\",\n",
    "    \"AuthorizationToken\": \"eyJh....\"\n",
    "}\n",
    "```"
   ]
  },
  {
   "cell_type": "code",
   "execution_count": 14,
   "metadata": {
    "dotnet_interactive": {
     "language": "csharp"
    },
    "polyglot_notebook": {
     "kernelName": "csharp"
    }
   },
   "outputs": [],
   "source": [
    "#!value --from-file settings.json --name settings"
   ]
  },
  {
   "cell_type": "code",
   "execution_count": 15,
   "metadata": {
    "dotnet_interactive": {
     "language": "csharp"
    },
    "polyglot_notebook": {
     "kernelName": "csharp"
    }
   },
   "outputs": [],
   "source": [
    "#!share settings --from value\n",
    "\n",
    "var parsedSettings = System.Text.Json.JsonSerializer.Deserialize<Dictionary<string, string>>(settings);\n",
    "\n",
    "var jinagaClient = JinagaClient.Create(options =>\n",
    "{\n",
    "    options.HttpEndpoint = new Uri(parsedSettings[\"HttpEndpoint\"]);\n",
    "    options.HttpAuthenticationProvider = new TokenAuthenticationProvider(parsedSettings[\"AuthorizationToken\"]);\n",
    "});"
   ]
  },
  {
   "cell_type": "code",
   "execution_count": 16,
   "metadata": {
    "dotnet_interactive": {
     "language": "csharp"
    },
    "polyglot_notebook": {
     "kernelName": "csharp"
    }
   },
   "outputs": [],
   "source": [
    "[FactType(\"Blog.User.Name\")]\n",
    "public partial record UserName(User user, string value, UserName[] prior) { }\n",
    "\n",
    "[FactType(\"Blog.Site\")]\n",
    "public partial record Site(User creator, DateTime createdAt) { }\n",
    "\n",
    "[FactType(\"Blog.Site.Name\")]\n",
    "public partial record SiteName(Site site, string value, SiteName[] prior) { }\n",
    "\n",
    "[FactType(\"Blog.Site.Domain\")]\n",
    "public partial record SiteDomain(Site site, string value, SiteDomain[] prior) { }\n",
    "\n",
    "[FactType(\"Blog.Post\")]\n",
    "public partial record Post(Site site, User author, DateTime createdAt) { }\n",
    "\n",
    "[FactType(\"Blog.Post.Title\")]\n",
    "public partial record PostTitle(Post post, string value, PostTitle[] prior) { }\n",
    "\n",
    "[FactType(\"Blog.Post.Deleted\")]\n",
    "public partial record PostDeleted(Post post, DateTime deletedAt) { }\n",
    "\n",
    "[FactType(\"Blog.Post.Publish\")]\n",
    "public partial record Publish(Post post, DateTime date) { }"
   ]
  },
  {
   "cell_type": "code",
   "execution_count": 17,
   "metadata": {
    "dotnet_interactive": {
     "language": "csharp"
    },
    "polyglot_notebook": {
     "kernelName": "csharp"
    }
   },
   "outputs": [
    {
     "data": {
      "text/html": [
       "<table><thead><tr><th><i>index</i></th><th>value</th></tr></thead><tbody><tr><td>0</td><td><details class=\"dni-treeview\"><summary><span class=\"dni-code-hint\"><code>{ id = +sYNBX9dkY7warmKFU+u5iesTSrk3a29AMNQbF6Hj3jElEd1TuCbs50ewh8bcpq88U9Tz+zNGfDLa3yTJxlhZQ==, names = System.Linq.Enumerable+&lt;OfTypeIterator&gt;d__66`1[System.String], domains = System.Linq.Enumerable+&lt;OfTypeIterator&gt;d__66`1[System.String] }</code></span></summary><div><table><thead><tr></tr></thead><tbody><tr><td>id</td><td><div class=\"dni-plaintext\"><pre>+sYNBX9dkY7warmKFU+u5iesTSrk3a29AMNQbF6Hj3jElEd1TuCbs50ewh8bcpq88U9Tz+zNGfDLa3yTJxlhZQ==</pre></div></td></tr><tr><td>names</td><td><details class=\"dni-treeview\"><summary><span class=\"dni-code-hint\"><code>[  ]</code></span></summary><div><table><thead><tr></tr></thead><tbody><tr><td><i>(values)</i></td><td><div class=\"dni-plaintext\"><pre>[  ]</pre></div></td></tr></tbody></table></div></details></td></tr><tr><td>domains</td><td><details class=\"dni-treeview\"><summary><span class=\"dni-code-hint\"><code>[  ]</code></span></summary><div><table><thead><tr></tr></thead><tbody><tr><td><i>(values)</i></td><td><div class=\"dni-plaintext\"><pre>[  ]</pre></div></td></tr></tbody></table></div></details></td></tr></tbody></table></div></details></td></tr><tr><td>1</td><td><details class=\"dni-treeview\"><summary><span class=\"dni-code-hint\"><code>{ id = 8x5QVW0GXL0dEYQlg1J9uK8q231tm4imE9M+/jP2T+AXdBIxOM8Ag6vCQ2qnaYHlEPwZ9m3h68vA4r3kcUDrdg==, names = System.Linq.Enumerable+&lt;OfTypeIterator&gt;d__66`1[System.String], domains = System.Linq.Enumerable+&lt;OfTypeIterator&gt;d__66`1[System.String] }</code></span></summary><div><table><thead><tr></tr></thead><tbody><tr><td>id</td><td><div class=\"dni-plaintext\"><pre>8x5QVW0GXL0dEYQlg1J9uK8q231tm4imE9M+/jP2T+AXdBIxOM8Ag6vCQ2qnaYHlEPwZ9m3h68vA4r3kcUDrdg==</pre></div></td></tr><tr><td>names</td><td><details class=\"dni-treeview\"><summary><span class=\"dni-code-hint\"><code>[ Michael Perry Dot Net ]</code></span></summary><div><table><thead><tr></tr></thead><tbody><tr><td><i>(values)</i></td><td><div class=\"dni-plaintext\"><pre>[ Michael Perry Dot Net ]</pre></div></td></tr></tbody></table></div></details></td></tr><tr><td>domains</td><td><details class=\"dni-treeview\"><summary><span class=\"dni-code-hint\"><code>[ michaelperry.net ]</code></span></summary><div><table><thead><tr></tr></thead><tbody><tr><td><i>(values)</i></td><td><div class=\"dni-plaintext\"><pre>[ michaelperry.net ]</pre></div></td></tr></tbody></table></div></details></td></tr></tbody></table></div></details></td></tr></tbody></table><style>\r\n",
       ".dni-code-hint {\r\n",
       "    font-style: italic;\r\n",
       "    overflow: hidden;\r\n",
       "    white-space: nowrap;\r\n",
       "}\r\n",
       ".dni-treeview {\r\n",
       "    white-space: nowrap;\r\n",
       "}\r\n",
       ".dni-treeview td {\r\n",
       "    vertical-align: top;\r\n",
       "    text-align: start;\r\n",
       "}\r\n",
       "details.dni-treeview {\r\n",
       "    padding-left: 1em;\r\n",
       "}\r\n",
       "table td {\r\n",
       "    text-align: start;\r\n",
       "}\r\n",
       "table tr { \r\n",
       "    vertical-align: top; \r\n",
       "    margin: 0em 0px;\r\n",
       "}\r\n",
       "table tr td pre \r\n",
       "{ \r\n",
       "    vertical-align: top !important; \r\n",
       "    margin: 0em 0px !important;\r\n",
       "} \r\n",
       "table th {\r\n",
       "    text-align: start;\r\n",
       "}\r\n",
       "</style>"
      ]
     },
     "metadata": {},
     "output_type": "display_data"
    }
   ],
   "source": [
    "var sitesForUser = Given<User>.Match((user, facts) =>\n",
    "    from site in facts.OfType<Site>()\n",
    "    where site.creator == user\n",
    "    select new\n",
    "    {\n",
    "        id = jinagaClient.Hash(site),\n",
    "        names =\n",
    "            from name in facts.OfType<SiteName>()\n",
    "            where name.site == site &&\n",
    "                !facts.Any<SiteName>(next => next.prior.Contains(name))\n",
    "            select name.value,\n",
    "        domains =\n",
    "            from domain in facts.OfType<SiteDomain>()\n",
    "            where domain.site == site &&\n",
    "                !facts.Any<SiteDomain>(next => next.prior.Contains(domain))\n",
    "            select domain.value\n",
    "    }\n",
    ");\n",
    "\n",
    "(var user, var profile) = await jinagaClient.Login();\n",
    "var sites = await jinagaClient.Query(sitesForUser, user);\n",
    "\n",
    "sites"
   ]
  },
  {
   "cell_type": "code",
   "execution_count": 18,
   "metadata": {
    "dotnet_interactive": {
     "language": "csharp"
    },
    "polyglot_notebook": {
     "kernelName": "csharp"
    }
   },
   "outputs": [
    {
     "data": {
      "text/html": [
       "<?xml version=\"1.0\" encoding=\"UTF-8\" standalone=\"no\"?>\n",
       "<!DOCTYPE svg PUBLIC \"-//W3C//DTD SVG 1.1//EN\"\n",
       " \"http://www.w3.org/Graphics/SVG/1.1/DTD/svg11.dtd\">\n",
       "<!-- Generated by graphviz version 9.0.0 (20230911.1827)\n",
       " -->\n",
       "<!-- Pages: 1 -->\n",
       "<svg width=\"3308pt\" height=\"273pt\"\n",
       " viewBox=\"0.00 0.00 3308.00 273.00\" xmlns=\"http://www.w3.org/2000/svg\" xmlns:xlink=\"http://www.w3.org/1999/xlink\">\n",
       "<g id=\"graph0\" class=\"graph\" transform=\"scale(1 1) rotate(0) translate(4 269)\">\n",
       "<polygon fill=\"white\" stroke=\"none\" points=\"-4,4 -4,-269 3304,-269 3304,4 -4,4\"/>\n",
       "<!-- AQ4Gbhfr+dVEb5/jfuRvTIDY+Po2i13e8paA+5GhBQMiIj8fo1Y767RTZtuoxrURnb+W8VX8QtgBARPAOpZ59g== -->\n",
       "<g id=\"node1\" class=\"node\">\n",
       "<title>AQ4Gbhfr+dVEb5/jfuRvTIDY+Po2i13e8paA+5GhBQMiIj8fo1Y767RTZtuoxrURnb+W8VX8QtgBARPAOpZ59g==</title>\n",
       "<polygon fill=\"none\" stroke=\"black\" points=\"8,-239 8,-261 3292,-261 3292,-239 8,-239\"/>\n",
       "<text text-anchor=\"start\" x=\"1618.12\" y=\"-244.7\" font-family=\"Times,serif\" font-size=\"14.00\">Jinaga.User</text>\n",
       "<polygon fill=\"none\" stroke=\"black\" points=\"8,-217 8,-239 70,-239 70,-217 8,-217\"/>\n",
       "<text text-anchor=\"start\" x=\"10.88\" y=\"-222.7\" font-family=\"Times,serif\" font-size=\"14.00\">publicKey</text>\n",
       "<polygon fill=\"none\" stroke=\"black\" points=\"70,-217 70,-239 3292,-239 3292,-217 70,-217\"/>\n",
       "<text text-anchor=\"start\" x=\"73\" y=\"-222.7\" font-family=\"Times,serif\" font-size=\"14.00\">&#45;&#45;&#45;&#45;&#45;BEGIN PUBLIC KEY&#45;&#45;&#45;&#45;&#45;MIIBIjANBgkqhkiG9w0BAQEFAAOCAQ8AMIIBCgKCAQEAyayXhgXKQXK1oBRkFmXySSLIlEfrybDxgQt7xwUn7jq4HGZBfsDynxsEdL7b9io1JT1MPGwQrDeOM3JPwFvEVqdnu9+onx2Mc0VXqMow6RQSaZy1fjgzbf6lJw7Ol68XD5c2LcfKiODHfMT63w/oxIcXSQuQ3QfRwxQyjcm2B497mQn34eaj6zwLQx65IdpbbSdam24xjearGjUAtxn/+BkcjSso/CZIXbLtsAbaJN9LoP3sPNk4qkfdHEcA3fnygSAGeyUybD5e+QXdFF4q7vkn66fBIsb8aIUsoOJMrqJW60cQi9eprPzq++FH/GjBRlis3+pdhKGnxf94rHSHaQIDAQAB&#45;&#45;&#45;&#45;&#45;END PUBLIC KEY&#45;&#45;&#45;&#45;&#45;</text>\n",
       "</g>\n",
       "<!-- +sYNBX9dkY7warmKFU+u5iesTSrk3a29AMNQbF6Hj3jElEd1TuCbs50ewh8bcpq88U9Tz+zNGfDLa3yTJxlhZQ== -->\n",
       "<g id=\"node2\" class=\"node\">\n",
       "<title>+sYNBX9dkY7warmKFU+u5iesTSrk3a29AMNQbF6Hj3jElEd1TuCbs50ewh8bcpq88U9Tz+zNGfDLa3yTJxlhZQ==</title>\n",
       "<polygon fill=\"none\" stroke=\"black\" points=\"1548,-133.5 1548,-155.5 1692,-155.5 1692,-133.5 1548,-133.5\"/>\n",
       "<text text-anchor=\"start\" x=\"1594.5\" y=\"-139.2\" font-family=\"Times,serif\" font-size=\"14.00\">Blog.Site</text>\n",
       "<polygon fill=\"none\" stroke=\"black\" points=\"1548,-111.5 1548,-133.5 1595,-133.5 1595,-111.5 1548,-111.5\"/>\n",
       "<text text-anchor=\"start\" x=\"1550.88\" y=\"-117.2\" font-family=\"Times,serif\" font-size=\"14.00\">domain</text>\n",
       "<polygon fill=\"none\" stroke=\"black\" points=\"1595,-111.5 1595,-133.5 1692,-133.5 1692,-111.5 1595,-111.5\"/>\n",
       "<text text-anchor=\"start\" x=\"1597.75\" y=\"-117.2\" font-family=\"Times,serif\" font-size=\"14.00\">michaelperry.net</text>\n",
       "<polygon fill=\"none\" stroke=\"black\" points=\"1547,-110.5 1547,-156.5 1693,-156.5 1693,-110.5 1547,-110.5\"/>\n",
       "</g>\n",
       "<!-- +sYNBX9dkY7warmKFU+u5iesTSrk3a29AMNQbF6Hj3jElEd1TuCbs50ewh8bcpq88U9Tz+zNGfDLa3yTJxlhZQ==&#45;&gt;AQ4Gbhfr+dVEb5/jfuRvTIDY+Po2i13e8paA+5GhBQMiIj8fo1Y767RTZtuoxrURnb+W8VX8QtgBARPAOpZ59g== -->\n",
       "<g id=\"edge1\" class=\"edge\">\n",
       "<title>+sYNBX9dkY7warmKFU+u5iesTSrk3a29AMNQbF6Hj3jElEd1TuCbs50ewh8bcpq88U9Tz+zNGfDLa3yTJxlhZQ==&#45;&gt;AQ4Gbhfr+dVEb5/jfuRvTIDY+Po2i13e8paA+5GhBQMiIj8fo1Y767RTZtuoxrURnb+W8VX8QtgBARPAOpZ59g==</title>\n",
       "<path fill=\"none\" stroke=\"black\" d=\"M1627.49,-160.35C1631.19,-173.11 1635.71,-188.69 1639.72,-202.54\"/>\n",
       "<polygon fill=\"black\" stroke=\"black\" points=\"1636.24,-203.11 1642.39,-211.74 1642.97,-201.16 1636.24,-203.11\"/>\n",
       "<text text-anchor=\"middle\" x=\"1655.75\" y=\"-181.7\" font-family=\"Times,serif\" font-size=\"14.00\">creator</text>\n",
       "</g>\n",
       "<!-- 8x5QVW0GXL0dEYQlg1J9uK8q231tm4imE9M+/jP2T+AXdBIxOM8Ag6vCQ2qnaYHlEPwZ9m3h68vA4r3kcUDrdg== -->\n",
       "<g id=\"node3\" class=\"node\">\n",
       "<title>8x5QVW0GXL0dEYQlg1J9uK8q231tm4imE9M+/jP2T+AXdBIxOM8Ag6vCQ2qnaYHlEPwZ9m3h68vA4r3kcUDrdg==</title>\n",
       "<polygon fill=\"none\" stroke=\"black\" points=\"1727.5,-133.5 1727.5,-155.5 1852.5,-155.5 1852.5,-133.5 1727.5,-133.5\"/>\n",
       "<text text-anchor=\"start\" x=\"1764.5\" y=\"-139.2\" font-family=\"Times,serif\" font-size=\"14.00\">Blog.Site</text>\n",
       "<polygon fill=\"none\" stroke=\"black\" points=\"1727.5,-111.5 1727.5,-133.5 1774.5,-133.5 1774.5,-111.5 1727.5,-111.5\"/>\n",
       "<text text-anchor=\"start\" x=\"1730.38\" y=\"-117.2\" font-family=\"Times,serif\" font-size=\"14.00\">domain</text>\n",
       "<polygon fill=\"none\" stroke=\"black\" points=\"1774.5,-111.5 1774.5,-133.5 1852.5,-133.5 1852.5,-111.5 1774.5,-111.5\"/>\n",
       "<text text-anchor=\"start\" x=\"1777.12\" y=\"-117.2\" font-family=\"Times,serif\" font-size=\"14.00\">qedcode.com</text>\n",
       "</g>\n",
       "<!-- 8x5QVW0GXL0dEYQlg1J9uK8q231tm4imE9M+/jP2T+AXdBIxOM8Ag6vCQ2qnaYHlEPwZ9m3h68vA4r3kcUDrdg==&#45;&gt;AQ4Gbhfr+dVEb5/jfuRvTIDY+Po2i13e8paA+5GhBQMiIj8fo1Y767RTZtuoxrURnb+W8VX8QtgBARPAOpZ59g== -->\n",
       "<g id=\"edge2\" class=\"edge\">\n",
       "<title>8x5QVW0GXL0dEYQlg1J9uK8q231tm4imE9M+/jP2T+AXdBIxOM8Ag6vCQ2qnaYHlEPwZ9m3h68vA4r3kcUDrdg==&#45;&gt;AQ4Gbhfr+dVEb5/jfuRvTIDY+Po2i13e8paA+5GhBQMiIj8fo1Y767RTZtuoxrURnb+W8VX8QtgBARPAOpZ59g==</title>\n",
       "<path fill=\"none\" stroke=\"black\" d=\"M1756.47,-159.29C1737.39,-173.4 1713.29,-191.21 1692.85,-206.32\"/>\n",
       "<polygon fill=\"black\" stroke=\"black\" points=\"1690.92,-203.39 1684.96,-212.15 1695.08,-209.02 1690.92,-203.39\"/>\n",
       "<text text-anchor=\"middle\" x=\"1747.75\" y=\"-181.7\" font-family=\"Times,serif\" font-size=\"14.00\">creator</text>\n",
       "</g>\n",
       "<!-- SsyqyaaxB+X+hArCtwQkJeGGqX4fTt8jKOon/uNI8oOoIKnnGinQGBm2OXBj049Vbp3HUFwtm/BG6Uj0c51KzA== -->\n",
       "<g id=\"node4\" class=\"node\">\n",
       "<title>SsyqyaaxB+X+hArCtwQkJeGGqX4fTt8jKOon/uNI8oOoIKnnGinQGBm2OXBj049Vbp3HUFwtm/BG6Uj0c51KzA==</title>\n",
       "<polygon fill=\"none\" stroke=\"black\" points=\"1615,-27 1615,-49 1781,-49 1781,-27 1615,-27\"/>\n",
       "<text text-anchor=\"start\" x=\"1654.12\" y=\"-32.7\" font-family=\"Times,serif\" font-size=\"14.00\">Blog.Site.Name</text>\n",
       "<polygon fill=\"none\" stroke=\"black\" points=\"1615,-5 1615,-27 1650,-27 1650,-5 1615,-5\"/>\n",
       "<text text-anchor=\"start\" x=\"1617.88\" y=\"-10.7\" font-family=\"Times,serif\" font-size=\"14.00\">value</text>\n",
       "<polygon fill=\"none\" stroke=\"black\" points=\"1650,-5 1650,-27 1781,-27 1781,-5 1650,-5\"/>\n",
       "<text text-anchor=\"start\" x=\"1652.88\" y=\"-10.7\" font-family=\"Times,serif\" font-size=\"14.00\">Michael Perry Dot Net</text>\n",
       "<polygon fill=\"none\" stroke=\"black\" points=\"1614,-4 1614,-50 1782,-50 1782,-4 1614,-4\"/>\n",
       "</g>\n",
       "<!-- SsyqyaaxB+X+hArCtwQkJeGGqX4fTt8jKOon/uNI8oOoIKnnGinQGBm2OXBj049Vbp3HUFwtm/BG6Uj0c51KzA==&#45;&gt;8x5QVW0GXL0dEYQlg1J9uK8q231tm4imE9M+/jP2T+AXdBIxOM8Ag6vCQ2qnaYHlEPwZ9m3h68vA4r3kcUDrdg== -->\n",
       "<g id=\"edge3\" class=\"edge\">\n",
       "<title>SsyqyaaxB+X+hArCtwQkJeGGqX4fTt8jKOon/uNI8oOoIKnnGinQGBm2OXBj049Vbp3HUFwtm/BG6Uj0c51KzA==&#45;&gt;8x5QVW0GXL0dEYQlg1J9uK8q231tm4imE9M+/jP2T+AXdBIxOM8Ag6vCQ2qnaYHlEPwZ9m3h68vA4r3kcUDrdg==</title>\n",
       "<path fill=\"none\" stroke=\"black\" d=\"M1720.74,-53.83C1732.84,-67.57 1747.85,-84.63 1760.8,-99.34\"/>\n",
       "<polygon fill=\"black\" stroke=\"black\" points=\"1757.92,-101.36 1767.15,-106.55 1763.17,-96.73 1757.92,-101.36\"/>\n",
       "<text text-anchor=\"middle\" x=\"1759.38\" y=\"-75.2\" font-family=\"Times,serif\" font-size=\"14.00\">site</text>\n",
       "</g>\n",
       "<!-- wMe2Qfj+NMNa1votw1N8qBEer4WSfvgYAUZ3Mr7a9etJg6BRSxmPkqBHscFT1Is3Wy5r8J8y9w3oO3Du2ZNYqw== -->\n",
       "<g id=\"node5\" class=\"node\">\n",
       "<title>wMe2Qfj+NMNa1votw1N8qBEer4WSfvgYAUZ3Mr7a9etJg6BRSxmPkqBHscFT1Is3Wy5r8J8y9w3oO3Du2ZNYqw==</title>\n",
       "<polygon fill=\"none\" stroke=\"black\" points=\"1817,-27 1817,-49 1949,-49 1949,-27 1817,-27\"/>\n",
       "<text text-anchor=\"start\" x=\"1833.5\" y=\"-32.7\" font-family=\"Times,serif\" font-size=\"14.00\">Blog.Site.Domain</text>\n",
       "<polygon fill=\"none\" stroke=\"black\" points=\"1817,-5 1817,-27 1852,-27 1852,-5 1817,-5\"/>\n",
       "<text text-anchor=\"start\" x=\"1819.88\" y=\"-10.7\" font-family=\"Times,serif\" font-size=\"14.00\">value</text>\n",
       "<polygon fill=\"none\" stroke=\"black\" points=\"1852,-5 1852,-27 1949,-27 1949,-5 1852,-5\"/>\n",
       "<text text-anchor=\"start\" x=\"1854.75\" y=\"-10.7\" font-family=\"Times,serif\" font-size=\"14.00\">michaelperry.net</text>\n",
       "<polygon fill=\"none\" stroke=\"black\" points=\"1816,-4 1816,-50 1950,-50 1950,-4 1816,-4\"/>\n",
       "</g>\n",
       "<!-- wMe2Qfj+NMNa1votw1N8qBEer4WSfvgYAUZ3Mr7a9etJg6BRSxmPkqBHscFT1Is3Wy5r8J8y9w3oO3Du2ZNYqw==&#45;&gt;8x5QVW0GXL0dEYQlg1J9uK8q231tm4imE9M+/jP2T+AXdBIxOM8Ag6vCQ2qnaYHlEPwZ9m3h68vA4r3kcUDrdg== -->\n",
       "<g id=\"edge4\" class=\"edge\">\n",
       "<title>wMe2Qfj+NMNa1votw1N8qBEer4WSfvgYAUZ3Mr7a9etJg6BRSxmPkqBHscFT1Is3Wy5r8J8y9w3oO3Du2ZNYqw==&#45;&gt;8x5QVW0GXL0dEYQlg1J9uK8q231tm4imE9M+/jP2T+AXdBIxOM8Ag6vCQ2qnaYHlEPwZ9m3h68vA4r3kcUDrdg==</title>\n",
       "<path fill=\"none\" stroke=\"black\" d=\"M1860.01,-53.83C1847.78,-67.57 1832.61,-84.63 1819.51,-99.34\"/>\n",
       "<polygon fill=\"black\" stroke=\"black\" points=\"1817.12,-96.76 1813.09,-106.55 1822.35,-101.41 1817.12,-96.76\"/>\n",
       "<text text-anchor=\"middle\" x=\"1851.38\" y=\"-75.2\" font-family=\"Times,serif\" font-size=\"14.00\">site</text>\n",
       "</g>\n",
       "</g>\n",
       "</svg>\n"
      ]
     },
     "metadata": {},
     "output_type": "display_data"
    }
   ],
   "source": [
    "var siteFactsForUser = Given<User>.Match((user, facts) =>\n",
    "    from site in facts.OfType<Site>()\n",
    "    where site.creator == user\n",
    "    select site\n",
    ");\n",
    "\n",
    "var siteNamesForUser = Given<User>.Match((user, facts) =>\n",
    "    from site in facts.OfType<Site>()\n",
    "    where site.creator == user\n",
    "    from name in facts.OfType<SiteName>()\n",
    "    where name.site == site &&\n",
    "        !facts.Any<SiteName>(next => next.prior.Contains(name))\n",
    "    select name\n",
    ");\n",
    "\n",
    "var siteDomainsForUser = Given<User>.Match((user, facts) =>\n",
    "    from site in facts.OfType<Site>()\n",
    "    where site.creator == user\n",
    "    from domain in facts.OfType<SiteDomain>()\n",
    "    where domain.site == site &&\n",
    "        !facts.Any<SiteDomain>(next => next.prior.Contains(domain))\n",
    "    select domain\n",
    ");\n",
    "\n",
    "var siteFacts = await jinagaClient.Query(siteFactsForUser, user);\n",
    "var siteNames = await jinagaClient.Query(siteNamesForUser, user);\n",
    "var siteDomains = await jinagaClient.Query(siteDomainsForUser, user);\n",
    "\n",
    "Renderer.RenderFacts(siteFacts, siteNames, siteDomains)"
   ]
  }
 ],
 "metadata": {
  "kernelspec": {
   "display_name": ".NET (C#)",
   "language": "C#",
   "name": ".net-csharp"
  },
  "language_info": {
   "name": "polyglot-notebook"
  },
  "polyglot_notebook": {
   "kernelInfo": {
    "defaultKernelName": "csharp",
    "items": [
     {
      "aliases": [],
      "languageName": "csharp",
      "name": "csharp"
     }
    ]
   }
  }
 },
 "nbformat": 4,
 "nbformat_minor": 2
}
