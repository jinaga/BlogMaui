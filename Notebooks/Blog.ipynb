{
 "cells": [
  {
   "cell_type": "code",
   "execution_count": 1,
   "metadata": {
    "dotnet_interactive": {
     "language": "csharp"
    },
    "polyglot_notebook": {
     "kernelName": "csharp"
    }
   },
   "outputs": [
    {
     "data": {
      "text/html": [
       "<div><div></div><div></div><div><strong>Installed Packages</strong><ul><li><span>Jinaga, 0.11.1</span></li><li><span>Jinaga.Graphviz, 0.11.1</span></li></ul></div></div>"
      ]
     },
     "metadata": {},
     "output_type": "display_data"
    }
   ],
   "source": [
    "#r \"nuget: Jinaga\"\n",
    "#r \"nuget: Jinaga.Graphviz\""
   ]
  },
  {
   "cell_type": "code",
   "execution_count": 2,
   "metadata": {
    "dotnet_interactive": {
     "language": "csharp"
    },
    "polyglot_notebook": {
     "kernelName": "csharp"
    }
   },
   "outputs": [],
   "source": [
    "using Jinaga;\n",
    "using Jinaga.Http;\n",
    "using Jinaga.Graphviz;"
   ]
  },
  {
   "cell_type": "code",
   "execution_count": 3,
   "metadata": {
    "dotnet_interactive": {
     "language": "csharp"
    },
    "polyglot_notebook": {
     "kernelName": "csharp"
    }
   },
   "outputs": [],
   "source": [
    "class TokenAuthenticationProvider : IHttpAuthenticationProvider\n",
    "{\n",
    "    private string token;\n",
    "\n",
    "    public TokenAuthenticationProvider(string token)\n",
    "    {\n",
    "        this.token = token;\n",
    "    }\n",
    "\n",
    "    public void SetRequestHeaders(System.Net.Http.Headers.HttpRequestHeaders headers)\n",
    "    {\n",
    "        headers.Add(\"Authorization\", $\"Bearer {token}\");\n",
    "    }\n",
    "\n",
    "    public Task<bool> Reauthenticate()\n",
    "    {\n",
    "        return Task.FromResult(false);\n",
    "    }\n",
    "}"
   ]
  },
  {
   "cell_type": "markdown",
   "metadata": {},
   "source": [
    "Create a file called `settings.json` and put the following settings into it:\n",
    "\n",
    "```json\n",
    "{\n",
    "    \"HttpEndpoint\": \"https://repdev.jinaga.com/....\",\n",
    "    \"AuthorizationToken\": \"eyJh....\"\n",
    "}\n",
    "```"
   ]
  },
  {
   "cell_type": "code",
   "execution_count": 4,
   "metadata": {
    "dotnet_interactive": {
     "language": "csharp"
    },
    "polyglot_notebook": {
     "kernelName": "csharp"
    }
   },
   "outputs": [],
   "source": [
    "#!value --from-file settings.json --name settings"
   ]
  },
  {
   "cell_type": "code",
   "execution_count": 5,
   "metadata": {
    "dotnet_interactive": {
     "language": "csharp"
    },
    "polyglot_notebook": {
     "kernelName": "csharp"
    }
   },
   "outputs": [],
   "source": [
    "#!share settings --from value\n",
    "\n",
    "var parsedSettings = System.Text.Json.JsonSerializer.Deserialize<Dictionary<string, string>>(settings);\n",
    "\n",
    "var jinagaClient = JinagaClient.Create(options =>\n",
    "{\n",
    "    options.HttpEndpoint = new Uri(parsedSettings[\"HttpEndpoint\"]);\n",
    "    options.HttpAuthenticationProvider = new TokenAuthenticationProvider(parsedSettings[\"AuthorizationToken\"]);\n",
    "});"
   ]
  },
  {
   "cell_type": "code",
   "execution_count": 6,
   "metadata": {
    "dotnet_interactive": {
     "language": "csharp"
    },
    "polyglot_notebook": {
     "kernelName": "csharp"
    }
   },
   "outputs": [],
   "source": [
    "[FactType(\"Blog.User.Name\")]\n",
    "public partial record UserName(User user, string value, UserName[] prior) { }\n",
    "\n",
    "[FactType(\"Blog.Site\")]\n",
    "public partial record Site(User creator, DateTime createdAt) { }\n",
    "\n",
    "[FactType(\"Blog.Site.Deleted\")]\n",
    "public record SiteDeleted(Site site, DateTime deletedAt) { }\n",
    "\n",
    "[FactType(\"Blog.Site.Restored\")]\n",
    "public record SiteRestored(SiteDeleted deleted) { }\n",
    "\n",
    "[FactType(\"Blog.Site.Name\")]\n",
    "public partial record SiteName(Site site, string value, SiteName[] prior) { }\n",
    "\n",
    "[FactType(\"Blog.Site.Domain\")]\n",
    "public partial record SiteDomain(Site site, string value, SiteDomain[] prior) { }\n",
    "\n",
    "[FactType(\"Blog.Post\")]\n",
    "public partial record Post(Site site, User author, DateTime createdAt) { }\n",
    "\n",
    "[FactType(\"Blog.Post.Title\")]\n",
    "public partial record PostTitle(Post post, string value, PostTitle[] prior) { }\n",
    "\n",
    "[FactType(\"Blog.Post.Deleted\")]\n",
    "public partial record PostDeleted(Post post, DateTime deletedAt) { }\n",
    "\n",
    "[FactType(\"Blog.Post.Restored\")]\n",
    "public record PostRestored(PostDeleted deleted) { }\n",
    "\n",
    "[FactType(\"Blog.Post.Publish\")]\n",
    "public partial record Publish(Post post, DateTime date) { }"
   ]
  },
  {
   "cell_type": "code",
   "execution_count": 16,
   "metadata": {
    "dotnet_interactive": {
     "language": "csharp"
    },
    "polyglot_notebook": {
     "kernelName": "csharp"
    }
   },
   "outputs": [
    {
     "data": {
      "text/html": [
       "<table><thead><tr><th><i>index</i></th><th>value</th></tr></thead><tbody><tr><td>0</td><td><details class=\"dni-treeview\"><summary><span class=\"dni-code-hint\"><code>{ id = zpHY9/lF8ieV3jFWH3YjchORWQ6V8Z7kCWoHdAapwiArLk2KhVpzerkpoSy0tx9fgWpND+psmmr6W8muDVlwpw==, names = System.Linq.Enumerable+&lt;OfTypeIterator&gt;d__66`1[System.String], domains = System.Linq.Enumerable+&lt;OfTypeIterator&gt;d__66`1[System.String] }</code></span></summary><div><table><thead><tr></tr></thead><tbody><tr><td>id</td><td><div class=\"dni-plaintext\"><pre>zpHY9/lF8ieV3jFWH3YjchORWQ6V8Z7kCWoHdAapwiArLk2KhVpzerkpoSy0tx9fgWpND+psmmr6W8muDVlwpw==</pre></div></td></tr><tr><td>names</td><td><details class=\"dni-treeview\"><summary><span class=\"dni-code-hint\"><code>[ Q.E.D. Code ]</code></span></summary><div><table><thead><tr></tr></thead><tbody><tr><td><i>(values)</i></td><td><div class=\"dni-plaintext\"><pre>[ Q.E.D. Code ]</pre></div></td></tr></tbody></table></div></details></td></tr><tr><td>domains</td><td><details class=\"dni-treeview\"><summary><span class=\"dni-code-hint\"><code>[ qedcode.com ]</code></span></summary><div><table><thead><tr></tr></thead><tbody><tr><td><i>(values)</i></td><td><div class=\"dni-plaintext\"><pre>[ qedcode.com ]</pre></div></td></tr></tbody></table></div></details></td></tr></tbody></table></div></details></td></tr><tr><td>1</td><td><details class=\"dni-treeview\"><summary><span class=\"dni-code-hint\"><code>{ id = 5oMxkYWX18458RwWh613VCf7+L9GgecvPvKmQNNoxPJiqZO+8bremU2Ce4oYAd+CQy2ib8SuU5HwekI4ytl0hw==, names = System.Linq.Enumerable+&lt;OfTypeIterator&gt;d__66`1[System.String], domains = System.Linq.Enumerable+&lt;OfTypeIterator&gt;d__66`1[System.String] }</code></span></summary><div><table><thead><tr></tr></thead><tbody><tr><td>id</td><td><div class=\"dni-plaintext\"><pre>5oMxkYWX18458RwWh613VCf7+L9GgecvPvKmQNNoxPJiqZO+8bremU2Ce4oYAd+CQy2ib8SuU5HwekI4ytl0hw==</pre></div></td></tr><tr><td>names</td><td><details class=\"dni-treeview\"><summary><span class=\"dni-code-hint\"><code>[ Michael L Perry ]</code></span></summary><div><table><thead><tr></tr></thead><tbody><tr><td><i>(values)</i></td><td><div class=\"dni-plaintext\"><pre>[ Michael L Perry ]</pre></div></td></tr></tbody></table></div></details></td></tr><tr><td>domains</td><td><details class=\"dni-treeview\"><summary><span class=\"dni-code-hint\"><code>[ michaelperry.net ]</code></span></summary><div><table><thead><tr></tr></thead><tbody><tr><td><i>(values)</i></td><td><div class=\"dni-plaintext\"><pre>[ michaelperry.net ]</pre></div></td></tr></tbody></table></div></details></td></tr></tbody></table></div></details></td></tr></tbody></table><style>\r\n",
       ".dni-code-hint {\r\n",
       "    font-style: italic;\r\n",
       "    overflow: hidden;\r\n",
       "    white-space: nowrap;\r\n",
       "}\r\n",
       ".dni-treeview {\r\n",
       "    white-space: nowrap;\r\n",
       "}\r\n",
       ".dni-treeview td {\r\n",
       "    vertical-align: top;\r\n",
       "    text-align: start;\r\n",
       "}\r\n",
       "details.dni-treeview {\r\n",
       "    padding-left: 1em;\r\n",
       "}\r\n",
       "table td {\r\n",
       "    text-align: start;\r\n",
       "}\r\n",
       "table tr { \r\n",
       "    vertical-align: top; \r\n",
       "    margin: 0em 0px;\r\n",
       "}\r\n",
       "table tr td pre \r\n",
       "{ \r\n",
       "    vertical-align: top !important; \r\n",
       "    margin: 0em 0px !important;\r\n",
       "} \r\n",
       "table th {\r\n",
       "    text-align: start;\r\n",
       "}\r\n",
       "</style>"
      ]
     },
     "metadata": {},
     "output_type": "display_data"
    }
   ],
   "source": [
    "var sitesForUser = Given<User>.Match((user, facts) =>\n",
    "    from site in facts.OfType<Site>()\n",
    "    where site.creator == user &&\n",
    "        !facts.Any<SiteDeleted>(deleted => deleted.site == site &&\n",
    "            !facts.Any<SiteRestored>(restored => restored.deleted == deleted))\n",
    "    select new\n",
    "    {\n",
    "        id = jinagaClient.Hash(site),\n",
    "        names =\n",
    "            from name in facts.OfType<SiteName>()\n",
    "            where name.site == site &&\n",
    "                !facts.Any<SiteName>(next => next.prior.Contains(name))\n",
    "            select name.value,\n",
    "        domains =\n",
    "            from domain in facts.OfType<SiteDomain>()\n",
    "            where domain.site == site &&\n",
    "                !facts.Any<SiteDomain>(next => next.prior.Contains(domain))\n",
    "            select domain.value\n",
    "    }\n",
    ");\n",
    "\n",
    "(var user, var profile) = await jinagaClient.Login();\n",
    "var sites = await jinagaClient.Query(sitesForUser, user);\n",
    "\n",
    "sites"
   ]
  },
  {
   "cell_type": "code",
   "execution_count": 15,
   "metadata": {
    "dotnet_interactive": {
     "language": "csharp"
    },
    "polyglot_notebook": {
     "kernelName": "csharp"
    }
   },
   "outputs": [
    {
     "data": {
      "text/html": [
       "<?xml version=\"1.0\" encoding=\"UTF-8\" standalone=\"no\"?>\n",
       "<!DOCTYPE svg PUBLIC \"-//W3C//DTD SVG 1.1//EN\"\n",
       " \"http://www.w3.org/Graphics/SVG/1.1/DTD/svg11.dtd\">\n",
       "<!-- Generated by graphviz version 9.0.0 (20230911.1827)\n",
       " -->\n",
       "<!-- Pages: 1 -->\n",
       "<svg width=\"660pt\" height=\"273pt\"\n",
       " viewBox=\"0.00 0.00 660.00 273.00\" xmlns=\"http://www.w3.org/2000/svg\" xmlns:xlink=\"http://www.w3.org/1999/xlink\">\n",
       "<g id=\"graph0\" class=\"graph\" transform=\"scale(1 1) rotate(0) translate(4 269)\">\n",
       "<polygon fill=\"white\" stroke=\"none\" points=\"-4,4 -4,-269 656,-269 656,4 -4,4\"/>\n",
       "<!-- AQ4Gbhfr+dVEb5/jfuRvTIDY+Po2i13e8paA+5GhBQMiIj8fo1Y767RTZtuoxrURnb+W8VX8QtgBARPAOpZ59g== -->\n",
       "<g id=\"node1\" class=\"node\">\n",
       "<title>AQ4Gbhfr+dVEb5/jfuRvTIDY+Po2i13e8paA+5GhBQMiIj8fo1Y767RTZtuoxrURnb+W8VX8QtgBARPAOpZ59g==</title>\n",
       "<polygon fill=\"none\" stroke=\"black\" points=\"203,-239 203,-261 419,-261 419,-239 203,-239\"/>\n",
       "<text text-anchor=\"start\" x=\"279.12\" y=\"-244.7\" font-family=\"Times,serif\" font-size=\"14.00\">Jinaga.User</text>\n",
       "<polygon fill=\"none\" stroke=\"black\" points=\"203,-217 203,-239 265,-239 265,-217 203,-217\"/>\n",
       "<text text-anchor=\"start\" x=\"205.88\" y=\"-222.7\" font-family=\"Times,serif\" font-size=\"14.00\">publicKey</text>\n",
       "<polygon fill=\"none\" stroke=\"black\" points=\"265,-217 265,-239 419,-239 419,-217 265,-217\"/>\n",
       "<text text-anchor=\"start\" x=\"267.75\" y=\"-222.7\" font-family=\"Times,serif\" font-size=\"14.00\">&#45;&#45;&#45;&#45;&#45;BEGIN PUBLIC KE...</text>\n",
       "</g>\n",
       "<!-- zpHY9/lF8ieV3jFWH3YjchORWQ6V8Z7kCWoHdAapwiArLk2KhVpzerkpoSy0tx9fgWpND+psmmr6W8muDVlwpw== -->\n",
       "<g id=\"node2\" class=\"node\">\n",
       "<title>zpHY9/lF8ieV3jFWH3YjchORWQ6V8Z7kCWoHdAapwiArLk2KhVpzerkpoSy0tx9fgWpND+psmmr6W8muDVlwpw==</title>\n",
       "<polygon fill=\"none\" stroke=\"black\" points=\"96,-133.5 96,-155.5 294,-155.5 294,-133.5 96,-133.5\"/>\n",
       "<text text-anchor=\"start\" x=\"169.5\" y=\"-139.2\" font-family=\"Times,serif\" font-size=\"14.00\">Blog.Site</text>\n",
       "<polygon fill=\"none\" stroke=\"black\" points=\"96,-111.5 96,-133.5 154,-133.5 154,-111.5 96,-111.5\"/>\n",
       "<text text-anchor=\"start\" x=\"98.75\" y=\"-117.2\" font-family=\"Times,serif\" font-size=\"14.00\">createdAt</text>\n",
       "<polygon fill=\"none\" stroke=\"black\" points=\"154,-111.5 154,-133.5 294,-133.5 294,-111.5 154,-111.5\"/>\n",
       "<text text-anchor=\"start\" x=\"156.88\" y=\"-117.2\" font-family=\"Times,serif\" font-size=\"14.00\">2024&#45;02&#45;19T03:51:21....</text>\n",
       "<polygon fill=\"none\" stroke=\"black\" points=\"95,-110.5 95,-156.5 295,-156.5 295,-110.5 95,-110.5\"/>\n",
       "</g>\n",
       "<!-- zpHY9/lF8ieV3jFWH3YjchORWQ6V8Z7kCWoHdAapwiArLk2KhVpzerkpoSy0tx9fgWpND+psmmr6W8muDVlwpw==&#45;&gt;AQ4Gbhfr+dVEb5/jfuRvTIDY+Po2i13e8paA+5GhBQMiIj8fo1Y767RTZtuoxrURnb+W8VX8QtgBARPAOpZ59g== -->\n",
       "<g id=\"edge1\" class=\"edge\">\n",
       "<title>zpHY9/lF8ieV3jFWH3YjchORWQ6V8Z7kCWoHdAapwiArLk2KhVpzerkpoSy0tx9fgWpND+psmmr6W8muDVlwpw==&#45;&gt;AQ4Gbhfr+dVEb5/jfuRvTIDY+Po2i13e8paA+5GhBQMiIj8fo1Y767RTZtuoxrURnb+W8VX8QtgBARPAOpZ59g==</title>\n",
       "<path fill=\"none\" stroke=\"black\" d=\"M223.97,-160.35C239.4,-174.12 258.52,-191.18 274.91,-205.8\"/>\n",
       "<polygon fill=\"black\" stroke=\"black\" points=\"272.27,-208.14 282.07,-212.18 276.93,-202.91 272.27,-208.14\"/>\n",
       "<text text-anchor=\"middle\" x=\"278.75\" y=\"-181.7\" font-family=\"Times,serif\" font-size=\"14.00\">creator</text>\n",
       "</g>\n",
       "<!-- 5oMxkYWX18458RwWh613VCf7+L9GgecvPvKmQNNoxPJiqZO+8bremU2Ce4oYAd+CQy2ib8SuU5HwekI4ytl0hw== -->\n",
       "<g id=\"node3\" class=\"node\">\n",
       "<title>5oMxkYWX18458RwWh613VCf7+L9GgecvPvKmQNNoxPJiqZO+8bremU2Ce4oYAd+CQy2ib8SuU5HwekI4ytl0hw==</title>\n",
       "<polygon fill=\"none\" stroke=\"black\" points=\"330,-133.5 330,-155.5 528,-155.5 528,-133.5 330,-133.5\"/>\n",
       "<text text-anchor=\"start\" x=\"403.5\" y=\"-139.2\" font-family=\"Times,serif\" font-size=\"14.00\">Blog.Site</text>\n",
       "<polygon fill=\"none\" stroke=\"black\" points=\"330,-111.5 330,-133.5 388,-133.5 388,-111.5 330,-111.5\"/>\n",
       "<text text-anchor=\"start\" x=\"332.75\" y=\"-117.2\" font-family=\"Times,serif\" font-size=\"14.00\">createdAt</text>\n",
       "<polygon fill=\"none\" stroke=\"black\" points=\"388,-111.5 388,-133.5 528,-133.5 528,-111.5 388,-111.5\"/>\n",
       "<text text-anchor=\"start\" x=\"390.88\" y=\"-117.2\" font-family=\"Times,serif\" font-size=\"14.00\">2024&#45;02&#45;19T03:51:58....</text>\n",
       "<polygon fill=\"none\" stroke=\"black\" points=\"329,-110.5 329,-156.5 529,-156.5 529,-110.5 329,-110.5\"/>\n",
       "</g>\n",
       "<!-- 5oMxkYWX18458RwWh613VCf7+L9GgecvPvKmQNNoxPJiqZO+8bremU2Ce4oYAd+CQy2ib8SuU5HwekI4ytl0hw==&#45;&gt;AQ4Gbhfr+dVEb5/jfuRvTIDY+Po2i13e8paA+5GhBQMiIj8fo1Y767RTZtuoxrURnb+W8VX8QtgBARPAOpZ59g== -->\n",
       "<g id=\"edge2\" class=\"edge\">\n",
       "<title>5oMxkYWX18458RwWh613VCf7+L9GgecvPvKmQNNoxPJiqZO+8bremU2Ce4oYAd+CQy2ib8SuU5HwekI4ytl0hw==&#45;&gt;AQ4Gbhfr+dVEb5/jfuRvTIDY+Po2i13e8paA+5GhBQMiIj8fo1Y767RTZtuoxrURnb+W8VX8QtgBARPAOpZ59g==</title>\n",
       "<path fill=\"none\" stroke=\"black\" d=\"M399.53,-160.35C383.83,-174.12 364.38,-191.18 347.71,-205.8\"/>\n",
       "<polygon fill=\"black\" stroke=\"black\" points=\"345.63,-202.97 340.42,-212.19 350.25,-208.23 345.63,-202.97\"/>\n",
       "<text text-anchor=\"middle\" x=\"396.75\" y=\"-181.7\" font-family=\"Times,serif\" font-size=\"14.00\">creator</text>\n",
       "</g>\n",
       "<!-- +gflKycBPHvdr0I6DE6Dff//s7ZVzseGu6i0aGJThuKIK0bTd+o79GUN2kc8fABEkfrTbFghTYGnTRxrZ+MRdg== -->\n",
       "<g id=\"node4\" class=\"node\">\n",
       "<title>+gflKycBPHvdr0I6DE6Dff//s7ZVzseGu6i0aGJThuKIK0bTd+o79GUN2kc8fABEkfrTbFghTYGnTRxrZ+MRdg==</title>\n",
       "<polygon fill=\"none\" stroke=\"black\" points=\"9,-27 9,-49 121,-49 121,-27 9,-27\"/>\n",
       "<text text-anchor=\"start\" x=\"21.12\" y=\"-32.7\" font-family=\"Times,serif\" font-size=\"14.00\">Blog.Site.Name</text>\n",
       "<polygon fill=\"none\" stroke=\"black\" points=\"9,-5 9,-27 44,-27 44,-5 9,-5\"/>\n",
       "<text text-anchor=\"start\" x=\"11.88\" y=\"-10.7\" font-family=\"Times,serif\" font-size=\"14.00\">value</text>\n",
       "<polygon fill=\"none\" stroke=\"black\" points=\"44,-5 44,-27 121,-27 121,-5 44,-5\"/>\n",
       "<text text-anchor=\"start\" x=\"46.88\" y=\"-10.7\" font-family=\"Times,serif\" font-size=\"14.00\">Q.E.D. Code</text>\n",
       "<polygon fill=\"none\" stroke=\"black\" points=\"8,-4 8,-50 122,-50 122,-4 8,-4\"/>\n",
       "</g>\n",
       "<!-- +gflKycBPHvdr0I6DE6Dff//s7ZVzseGu6i0aGJThuKIK0bTd+o79GUN2kc8fABEkfrTbFghTYGnTRxrZ+MRdg==&#45;&gt;zpHY9/lF8ieV3jFWH3YjchORWQ6V8Z7kCWoHdAapwiArLk2KhVpzerkpoSy0tx9fgWpND+psmmr6W8muDVlwpw== -->\n",
       "<g id=\"edge3\" class=\"edge\">\n",
       "<title>+gflKycBPHvdr0I6DE6Dff//s7ZVzseGu6i0aGJThuKIK0bTd+o79GUN2kc8fABEkfrTbFghTYGnTRxrZ+MRdg==&#45;&gt;zpHY9/lF8ieV3jFWH3YjchORWQ6V8Z7kCWoHdAapwiArLk2KhVpzerkpoSy0tx9fgWpND+psmmr6W8muDVlwpw==</title>\n",
       "<path fill=\"none\" stroke=\"black\" d=\"M97.13,-53.83C114.32,-67.65 135.67,-84.81 154.04,-99.57\"/>\n",
       "<polygon fill=\"black\" stroke=\"black\" points=\"151.62,-102.12 161.6,-105.66 156,-96.66 151.62,-102.12\"/>\n",
       "<text text-anchor=\"middle\" x=\"147.38\" y=\"-75.2\" font-family=\"Times,serif\" font-size=\"14.00\">site</text>\n",
       "</g>\n",
       "<!-- JFiulNL9PieT0BIfdK+X701n5igv+qNiqaPkUCXwweRkCbIwxd5mJJyv3VImbwEqouT3mhv3GZSqK2AfDeAEdw== -->\n",
       "<g id=\"node5\" class=\"node\">\n",
       "<title>JFiulNL9PieT0BIfdK+X701n5igv+qNiqaPkUCXwweRkCbIwxd5mJJyv3VImbwEqouT3mhv3GZSqK2AfDeAEdw==</title>\n",
       "<polygon fill=\"none\" stroke=\"black\" points=\"345,-27 345,-49 475,-49 475,-27 345,-27\"/>\n",
       "<text text-anchor=\"start\" x=\"366.12\" y=\"-32.7\" font-family=\"Times,serif\" font-size=\"14.00\">Blog.Site.Name</text>\n",
       "<polygon fill=\"none\" stroke=\"black\" points=\"345,-5 345,-27 380,-27 380,-5 345,-5\"/>\n",
       "<text text-anchor=\"start\" x=\"347.88\" y=\"-10.7\" font-family=\"Times,serif\" font-size=\"14.00\">value</text>\n",
       "<polygon fill=\"none\" stroke=\"black\" points=\"380,-5 380,-27 475,-27 475,-5 380,-5\"/>\n",
       "<text text-anchor=\"start\" x=\"382.88\" y=\"-10.7\" font-family=\"Times,serif\" font-size=\"14.00\">Michael L Perry</text>\n",
       "<polygon fill=\"none\" stroke=\"black\" points=\"344,-4 344,-50 476,-50 476,-4 344,-4\"/>\n",
       "</g>\n",
       "<!-- JFiulNL9PieT0BIfdK+X701n5igv+qNiqaPkUCXwweRkCbIwxd5mJJyv3VImbwEqouT3mhv3GZSqK2AfDeAEdw==&#45;&gt;5oMxkYWX18458RwWh613VCf7+L9GgecvPvKmQNNoxPJiqZO+8bremU2Ce4oYAd+CQy2ib8SuU5HwekI4ytl0hw== -->\n",
       "<g id=\"edge4\" class=\"edge\">\n",
       "<title>JFiulNL9PieT0BIfdK+X701n5igv+qNiqaPkUCXwweRkCbIwxd5mJJyv3VImbwEqouT3mhv3GZSqK2AfDeAEdw==&#45;&gt;5oMxkYWX18458RwWh613VCf7+L9GgecvPvKmQNNoxPJiqZO+8bremU2Ce4oYAd+CQy2ib8SuU5HwekI4ytl0hw==</title>\n",
       "<path fill=\"none\" stroke=\"black\" d=\"M414.7,-53.83C416.98,-66.39 419.77,-81.72 422.27,-95.49\"/>\n",
       "<polygon fill=\"black\" stroke=\"black\" points=\"418.79,-95.9 424.02,-105.11 425.68,-94.65 418.79,-95.9\"/>\n",
       "<text text-anchor=\"middle\" x=\"430.38\" y=\"-75.2\" font-family=\"Times,serif\" font-size=\"14.00\">site</text>\n",
       "</g>\n",
       "<!-- nT7LMCa0MUcixk2OvxSDRbNOHtkMT/CyBfZ7LCKuLOLovtb5LY4Ir0tcm9vw9QJ9H5v8PpkeiaLlqLUu7xBPhw== -->\n",
       "<g id=\"node6\" class=\"node\">\n",
       "<title>nT7LMCa0MUcixk2OvxSDRbNOHtkMT/CyBfZ7LCKuLOLovtb5LY4Ir0tcm9vw9QJ9H5v8PpkeiaLlqLUu7xBPhw==</title>\n",
       "<polygon fill=\"none\" stroke=\"black\" points=\"157.5,-27 157.5,-49 270.5,-49 270.5,-27 157.5,-27\"/>\n",
       "<text text-anchor=\"start\" x=\"164.5\" y=\"-32.7\" font-family=\"Times,serif\" font-size=\"14.00\">Blog.Site.Domain</text>\n",
       "<polygon fill=\"none\" stroke=\"black\" points=\"157.5,-5 157.5,-27 192.5,-27 192.5,-5 157.5,-5\"/>\n",
       "<text text-anchor=\"start\" x=\"160.38\" y=\"-10.7\" font-family=\"Times,serif\" font-size=\"14.00\">value</text>\n",
       "<polygon fill=\"none\" stroke=\"black\" points=\"192.5,-5 192.5,-27 270.5,-27 270.5,-5 192.5,-5\"/>\n",
       "<text text-anchor=\"start\" x=\"195.12\" y=\"-10.7\" font-family=\"Times,serif\" font-size=\"14.00\">qedcode.com</text>\n",
       "<polygon fill=\"none\" stroke=\"black\" points=\"156.5,-4 156.5,-50 271.5,-50 271.5,-4 156.5,-4\"/>\n",
       "</g>\n",
       "<!-- nT7LMCa0MUcixk2OvxSDRbNOHtkMT/CyBfZ7LCKuLOLovtb5LY4Ir0tcm9vw9QJ9H5v8PpkeiaLlqLUu7xBPhw==&#45;&gt;zpHY9/lF8ieV3jFWH3YjchORWQ6V8Z7kCWoHdAapwiArLk2KhVpzerkpoSy0tx9fgWpND+psmmr6W8muDVlwpw== -->\n",
       "<g id=\"edge5\" class=\"edge\">\n",
       "<title>nT7LMCa0MUcixk2OvxSDRbNOHtkMT/CyBfZ7LCKuLOLovtb5LY4Ir0tcm9vw9QJ9H5v8PpkeiaLlqLUu7xBPhw==&#45;&gt;zpHY9/lF8ieV3jFWH3YjchORWQ6V8Z7kCWoHdAapwiArLk2KhVpzerkpoSy0tx9fgWpND+psmmr6W8muDVlwpw==</title>\n",
       "<path fill=\"none\" stroke=\"black\" d=\"M209.3,-53.83C207.02,-66.39 204.23,-81.72 201.73,-95.49\"/>\n",
       "<polygon fill=\"black\" stroke=\"black\" points=\"198.32,-94.65 199.98,-105.11 205.21,-95.9 198.32,-94.65\"/>\n",
       "<text text-anchor=\"middle\" x=\"215.38\" y=\"-75.2\" font-family=\"Times,serif\" font-size=\"14.00\">site</text>\n",
       "</g>\n",
       "<!-- cRzml7uU+PnFAMSpVciMD2lMy3kWhrbDZLhDJPb2YYgkirCQ4Z1oT+J9hLvIS9T32+w5v2oQHMgK84QqzRFbCQ== -->\n",
       "<g id=\"node7\" class=\"node\">\n",
       "<title>cRzml7uU+PnFAMSpVciMD2lMy3kWhrbDZLhDJPb2YYgkirCQ4Z1oT+J9hLvIS9T32+w5v2oQHMgK84QqzRFbCQ==</title>\n",
       "<polygon fill=\"none\" stroke=\"black\" points=\"511,-27 511,-49 643,-49 643,-27 511,-27\"/>\n",
       "<text text-anchor=\"start\" x=\"527.5\" y=\"-32.7\" font-family=\"Times,serif\" font-size=\"14.00\">Blog.Site.Domain</text>\n",
       "<polygon fill=\"none\" stroke=\"black\" points=\"511,-5 511,-27 546,-27 546,-5 511,-5\"/>\n",
       "<text text-anchor=\"start\" x=\"513.88\" y=\"-10.7\" font-family=\"Times,serif\" font-size=\"14.00\">value</text>\n",
       "<polygon fill=\"none\" stroke=\"black\" points=\"546,-5 546,-27 643,-27 643,-5 546,-5\"/>\n",
       "<text text-anchor=\"start\" x=\"548.75\" y=\"-10.7\" font-family=\"Times,serif\" font-size=\"14.00\">michaelperry.net</text>\n",
       "<polygon fill=\"none\" stroke=\"black\" points=\"510,-4 510,-50 644,-50 644,-4 510,-4\"/>\n",
       "</g>\n",
       "<!-- cRzml7uU+PnFAMSpVciMD2lMy3kWhrbDZLhDJPb2YYgkirCQ4Z1oT+J9hLvIS9T32+w5v2oQHMgK84QqzRFbCQ==&#45;&gt;5oMxkYWX18458RwWh613VCf7+L9GgecvPvKmQNNoxPJiqZO+8bremU2Ce4oYAd+CQy2ib8SuU5HwekI4ytl0hw== -->\n",
       "<g id=\"edge6\" class=\"edge\">\n",
       "<title>cRzml7uU+PnFAMSpVciMD2lMy3kWhrbDZLhDJPb2YYgkirCQ4Z1oT+J9hLvIS9T32+w5v2oQHMgK84QqzRFbCQ==&#45;&gt;5oMxkYWX18458RwWh613VCf7+L9GgecvPvKmQNNoxPJiqZO+8bremU2Ce4oYAd+CQy2ib8SuU5HwekI4ytl0hw==</title>\n",
       "<path fill=\"none\" stroke=\"black\" d=\"M540.42,-53.83C520.67,-67.77 496.1,-85.12 475.06,-99.98\"/>\n",
       "<polygon fill=\"black\" stroke=\"black\" points=\"473.06,-97.1 466.91,-105.73 477.1,-102.82 473.06,-97.1\"/>\n",
       "<text text-anchor=\"middle\" x=\"521.38\" y=\"-75.2\" font-family=\"Times,serif\" font-size=\"14.00\">site</text>\n",
       "</g>\n",
       "</g>\n",
       "</svg>\n"
      ]
     },
     "metadata": {},
     "output_type": "display_data"
    }
   ],
   "source": [
    "var siteFactsForUser = Given<User>.Match((user, facts) =>\n",
    "    from site in facts.OfType<Site>()\n",
    "    where site.creator == user &&\n",
    "        !facts.Any<SiteDeleted>(deleted => deleted.site == site &&\n",
    "            !facts.Any<SiteRestored>(restored => restored.deleted == deleted))\n",
    "    select site\n",
    ");\n",
    "\n",
    "var siteNamesForUser = Given<User>.Match((user, facts) =>\n",
    "    from site in facts.OfType<Site>()\n",
    "    where site.creator == user &&\n",
    "        !facts.Any<SiteDeleted>(deleted => deleted.site == site &&\n",
    "            !facts.Any<SiteRestored>(restored => restored.deleted == deleted))\n",
    "    from name in facts.OfType<SiteName>()\n",
    "    where name.site == site &&\n",
    "        !facts.Any<SiteName>(next => next.prior.Contains(name))\n",
    "    select name\n",
    ");\n",
    "\n",
    "var siteDomainsForUser = Given<User>.Match((user, facts) =>\n",
    "    from site in facts.OfType<Site>()\n",
    "    where site.creator == user &&\n",
    "        !facts.Any<SiteDeleted>(deleted => deleted.site == site &&\n",
    "            !facts.Any<SiteRestored>(restored => restored.deleted == deleted))\n",
    "    from domain in facts.OfType<SiteDomain>()\n",
    "    where domain.site == site &&\n",
    "        !facts.Any<SiteDomain>(next => next.prior.Contains(domain))\n",
    "    select domain\n",
    ");\n",
    "\n",
    "var siteFacts = await jinagaClient.Query(siteFactsForUser, user);\n",
    "var siteNames = await jinagaClient.Query(siteNamesForUser, user);\n",
    "var siteDomains = await jinagaClient.Query(siteDomainsForUser, user);\n",
    "\n",
    "jinagaClient.RenderFacts(siteFacts, siteNames, siteDomains)"
   ]
  }
 ],
 "metadata": {
  "kernelspec": {
   "display_name": ".NET (C#)",
   "language": "C#",
   "name": ".net-csharp"
  },
  "language_info": {
   "name": "polyglot-notebook"
  },
  "polyglot_notebook": {
   "kernelInfo": {
    "defaultKernelName": "csharp",
    "items": [
     {
      "aliases": [],
      "languageName": "csharp",
      "name": "csharp"
     }
    ]
   }
  }
 },
 "nbformat": 4,
 "nbformat_minor": 2
}
