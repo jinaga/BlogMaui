{
 "cells": [
  {
   "cell_type": "markdown",
   "metadata": {},
   "source": [
    "# Blog Model\n",
    "\n",
    "The Blog application demonstrates a Jinaga model expressed in several different forms.\n",
    "As a Maui application, it showcases content creation and management on a mobile device.\n",
    "As a React application, it demonstrates reader interaction through an in-browser commenting experience.\n",
    "And as a function app, it reveals how backend services can respond to the model to perform tasks such as static site generation.\n",
    "\n",
    "The Blog app is at once familiar and full of expressive possibilities.\n",
    "This document describes the model while also teaching various features and patterns of Jinaga."
   ]
  },
  {
   "cell_type": "code",
   "execution_count": null,
   "metadata": {
    "dotnet_interactive": {
     "language": "csharp"
    },
    "polyglot_notebook": {
     "kernelName": "csharp"
    }
   },
   "outputs": [],
   "source": [
    "// Reference the Jinaga NuGet packages\n",
    "#r \"nuget: Jinaga, 0.11.18\"\n",
    "#r \"nuget: Jinaga.Graphviz, 0.11.18\"\n",
    "#r \"nuget: Jinaga.UnitTest, 0.11.18\""
   ]
  },
  {
   "cell_type": "code",
   "execution_count": null,
   "metadata": {},
   "outputs": [],
   "source": [
    "using Jinaga;\n",
    "using Jinaga.Graphviz;\n",
    "using Jinaga.UnitTest;\n",
    "\n",
    "// Create a Jinaga client for unit testing. Simulate a logged in user.\n",
    "var jinagaClient = JinagaTest.Create(opt =>\n",
    "{\n",
    "    opt.User = new User(\"--- FAKE USER ---\");\n",
    "});"
   ]
  },
  {
   "cell_type": "markdown",
   "metadata": {},
   "source": [
    "## Declaring Facts\n",
    "\n",
    "Express a Jinaga model as a set of C# records representing historical facts.\n",
    "Decorate each record with a `FactType` attribute.\n",
    "The fields of the records are predecessors -- facts that came before -- and fields.\n",
    "\n",
    "In the Blog model, a site is an entity created by a specific user.\n",
    "We use the date and time to distinguish it from other sites that the user created.\n",
    "The assumption is that a user will not create multiple sites within the same millisecond.\n",
    "\n",
    "Notice that the site does not contain any other properties, such as a title or a domain name.\n",
    "Those properties are mutable, and therefore not part of the initial fact."
   ]
  },
  {
   "cell_type": "code",
   "execution_count": null,
   "metadata": {},
   "outputs": [],
   "source": [
    "[FactType(\"Blog.Site\")]\n",
    "public record Site(User creator, DateTime createdAt) { }"
   ]
  },
  {
   "cell_type": "markdown",
   "metadata": {},
   "source": [
    "The `User` type is provided by the Jinaga library.\n",
    "It represents someone who can log into the app.\n",
    "A model almost always starts with a fact owned by a user.\n",
    "This gives us a place to start our authorization rules."
   ]
  },
  {
   "cell_type": "code",
   "execution_count": null,
   "metadata": {},
   "outputs": [],
   "source": [
    "// Call RenderTypes without a semicolon to display the graph\n",
    "Renderer.RenderTypes(typeof(User), typeof(Site))"
   ]
  },
  {
   "cell_type": "markdown",
   "metadata": {},
   "source": [
    "## Log In\n",
    "\n",
    "The user is the starting point of the model.\n",
    "You'll need to call `Login` to get the logged in user."
   ]
  },
  {
   "cell_type": "code",
   "execution_count": null,
   "metadata": {},
   "outputs": [],
   "source": [
    "// Login returns the user fact and profile information\n",
    "var (user, profile) = await jinagaClient.Login();\n",
    "\n",
    "// Call RenderFacts on the Jinaga client to display the facts\n",
    "jinagaClient.RenderFacts(user)"
   ]
  },
  {
   "cell_type": "markdown",
   "metadata": {},
   "source": [
    "## Save Facts\n",
    "\n",
    "Save an instance of a fact to the Jinaga client whenever the user takes an action.\n",
    "Pass a record to the `Fact` method.\n",
    "This will save the fact in the local store and share it with the server.\n",
    "\n",
    "The `Fact` method returns the record that was just saved.\n",
    "Hold on to this copy of the record for use in other methods."
   ]
  },
  {
   "cell_type": "code",
   "execution_count": null,
   "metadata": {},
   "outputs": [],
   "source": [
    "var site = await jinagaClient.Fact(new Site(user, DateTime.UtcNow));\n",
    "\n",
    "jinagaClient.RenderFacts(site)"
   ]
  },
  {
   "cell_type": "markdown",
   "metadata": {},
   "source": [
    "## Query for Successors\n",
    "\n",
    "Given one fact, you can find its successors using LINQ.\n",
    "For example, you can find all sites for a given user.\n",
    "Use `Given<T>.Match()` to define a specification."
   ]
  },
  {
   "cell_type": "code",
   "execution_count": null,
   "metadata": {
    "dotnet_interactive": {
     "language": "csharp"
    },
    "polyglot_notebook": {
     "kernelName": "csharp"
    }
   },
   "outputs": [],
   "source": [
    "// The parameters to the lambda are the given fact (in this case, the user) and\n",
    "// the fact repository. Use the OfType<T> method to get facts from the repository.\n",
    "var sitesByUser = Given<User>.Match((user, facts) =>\n",
    "    from site in facts.OfType<Site>()\n",
    "    where site.creator == user\n",
    "    select site);\n",
    "\n",
    "// Query for facts matching the specification.\n",
    "var sites = await jinagaClient.Query(sitesByUser, user);\n",
    "\n",
    "jinagaClient.RenderFacts(sites)"
   ]
  }
 ],
 "metadata": {
  "kernelspec": {
   "display_name": ".NET (C#)",
   "language": "C#",
   "name": ".net-csharp"
  },
  "polyglot_notebook": {
   "kernelInfo": {
    "defaultKernelName": "csharp",
    "items": [
     {
      "aliases": [],
      "languageName": "csharp",
      "name": "csharp"
     }
    ]
   }
  }
 },
 "nbformat": 4,
 "nbformat_minor": 2
}
